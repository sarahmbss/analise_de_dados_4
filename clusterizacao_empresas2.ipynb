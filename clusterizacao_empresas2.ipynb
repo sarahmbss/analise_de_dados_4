{
 "cells": [
  {
   "cell_type": "code",
   "execution_count": 58,
   "metadata": {},
   "outputs": [],
   "source": [
    "import pandas as pd\n",
    "import matplotlib.pyplot as plt\n",
    "from statsmodels.graphics.gofplots import qqplot\n",
    "import numpy as np\n",
    "import scipy as sp\n",
    "from scipy import stats as st\n",
    "import researchpy as rs\n",
    "from scipy.spatial import distance_matrix\n",
    "from scipy.spatial import distance\n",
    "from scipy.cluster.hierarchy import dendrogram, linkage\n",
    "\n",
    "from sklearn import preprocessing\n",
    "from sklearn.preprocessing import StandardScaler\n",
    "from sklearn.preprocessing import MinMaxScaler\n",
    "\n",
    "from sklearn.cluster import AgglomerativeClustering\n",
    "from sklearn.cluster import KMeans\n",
    "\n",
    "import statsmodels.api as sm\n",
    "from statsmodels.formula.api import ols\n",
    "import statsmodels as stm"
   ]
  },
  {
   "cell_type": "code",
   "execution_count": 59,
   "metadata": {},
   "outputs": [],
   "source": [
    "df=pd.read_excel(\"ex15.xlsx\")"
   ]
  },
  {
   "cell_type": "code",
   "execution_count": 60,
   "metadata": {},
   "outputs": [
    {
     "data": {
      "text/html": [
       "<div>\n",
       "<style scoped>\n",
       "    .dataframe tbody tr th:only-of-type {\n",
       "        vertical-align: middle;\n",
       "    }\n",
       "\n",
       "    .dataframe tbody tr th {\n",
       "        vertical-align: top;\n",
       "    }\n",
       "\n",
       "    .dataframe thead th {\n",
       "        text-align: right;\n",
       "    }\n",
       "</style>\n",
       "<table border=\"1\" class=\"dataframe\">\n",
       "  <thead>\n",
       "    <tr style=\"text-align: right;\">\n",
       "      <th></th>\n",
       "      <th>Empresa</th>\n",
       "      <th>Itens</th>\n",
       "      <th>Lojas</th>\n",
       "      <th>Faturamento</th>\n",
       "    </tr>\n",
       "  </thead>\n",
       "  <tbody>\n",
       "    <tr>\n",
       "      <th>0</th>\n",
       "      <td>A</td>\n",
       "      <td>2500</td>\n",
       "      <td>3</td>\n",
       "      <td>250000</td>\n",
       "    </tr>\n",
       "    <tr>\n",
       "      <th>1</th>\n",
       "      <td>B</td>\n",
       "      <td>2700</td>\n",
       "      <td>3</td>\n",
       "      <td>240000</td>\n",
       "    </tr>\n",
       "    <tr>\n",
       "      <th>2</th>\n",
       "      <td>C</td>\n",
       "      <td>4000</td>\n",
       "      <td>4</td>\n",
       "      <td>310000</td>\n",
       "    </tr>\n",
       "  </tbody>\n",
       "</table>\n",
       "</div>"
      ],
      "text/plain": [
       "  Empresa  Itens  Lojas  Faturamento\n",
       "0       A   2500      3       250000\n",
       "1       B   2700      3       240000\n",
       "2       C   4000      4       310000"
      ]
     },
     "execution_count": 60,
     "metadata": {},
     "output_type": "execute_result"
    }
   ],
   "source": [
    "df.head(3)"
   ]
  },
  {
   "cell_type": "code",
   "execution_count": 61,
   "metadata": {},
   "outputs": [],
   "source": [
    "variaveis = [\"Itens\", \"Lojas\", \"Faturamento\"]"
   ]
  },
  {
   "cell_type": "code",
   "execution_count": 62,
   "metadata": {},
   "outputs": [],
   "source": [
    "z_variaveis = []\n",
    "for var in variaveis:\n",
    "    z_variaveis.append(\"z_\" + var)"
   ]
  },
  {
   "cell_type": "code",
   "execution_count": 63,
   "metadata": {},
   "outputs": [
    {
     "data": {
      "text/plain": [
       "['z_Itens', 'z_Lojas', 'z_Faturamento']"
      ]
     },
     "execution_count": 63,
     "metadata": {},
     "output_type": "execute_result"
    }
   ],
   "source": [
    "z_variaveis"
   ]
  },
  {
   "cell_type": "code",
   "execution_count": 64,
   "metadata": {},
   "outputs": [],
   "source": [
    "X = df[variaveis]\n",
    "X_std = StandardScaler().fit_transform(X)"
   ]
  },
  {
   "cell_type": "code",
   "execution_count": 65,
   "metadata": {},
   "outputs": [
    {
     "data": {
      "text/plain": [
       "array([[-0.64286731, -0.61632153, -0.81568722],\n",
       "       [-0.63282251, -0.61632153, -0.84069296],\n",
       "       [-0.5675313 , -0.43068251, -0.66565278],\n",
       "       [-0.5825985 , -0.61632153, -0.46560687],\n",
       "       [-0.27372085, -0.2450435 , -0.09052078],\n",
       "       [ 0.08538082,  0.12623453,  0.40959401],\n",
       "       [ 0.48717289,  0.31187355,  0.68465715],\n",
       "       [-0.5876209 , -0.61632153, -0.71566426],\n",
       "       [-0.5424193 , -0.43068251, -0.56562983],\n",
       "       [-0.42188168, -0.43068251, -0.31557243],\n",
       "       [-0.12556002,  0.31187355,  0.18454236],\n",
       "       [ 0.83874095,  1.79698566,  1.00973176],\n",
       "       [-0.71820333, -0.98759956, -1.14076183],\n",
       "       [-0.70815853, -0.80196054, -0.96572166],\n",
       "       [-0.69560252, -0.61632153, -0.96572166],\n",
       "       [-0.04017921, -0.05940448,  0.29706818],\n",
       "       [-0.34152326, -0.2450435 , -0.21554947],\n",
       "       [-0.27623205, -0.61632153, -0.01550356],\n",
       "       [ 2.84770131,  2.16826369,  1.68488673],\n",
       "       [-0.5424193 , -0.61632153, -0.71566426],\n",
       "       [ 0.98941298,  0.68315157,  1.05974324],\n",
       "       [ 0.08538082,  0.31187355,  0.60963993],\n",
       "       [-0.41685927, -0.43068251, -0.41559539],\n",
       "       [ 3.19926937,  3.28209778,  3.43528849],\n",
       "       [-0.41685927, -0.61632153, -0.46560687]])"
      ]
     },
     "execution_count": 65,
     "metadata": {},
     "output_type": "execute_result"
    }
   ],
   "source": [
    "X_std"
   ]
  },
  {
   "cell_type": "code",
   "execution_count": 66,
   "metadata": {},
   "outputs": [],
   "source": [
    "df = pd.concat([df, pd.DataFrame(X_std, columns=z_variaveis)], axis=1)"
   ]
  },
  {
   "cell_type": "code",
   "execution_count": 67,
   "metadata": {},
   "outputs": [
    {
     "data": {
      "text/plain": [
       "array([[0.00000000e+00, 1.00040000e+08, 3.60225000e+09, 1.96014400e+10,\n",
       "        8.41540225e+10, 2.40310250e+11, 3.60506250e+11, 1.60121000e+09,\n",
       "        1.00040000e+10, 4.00193600e+10, 1.60106090e+11, 5.33770250e+11,\n",
       "        1.69022500e+10, 3.60169000e+09, 3.60110250e+09, 1.98169000e+11,\n",
       "        5.76360000e+10, 1.02453290e+11, 1.00483025e+12, 1.60400000e+09,\n",
       "        5.63556250e+11, 3.25110250e+11, 2.56202500e+10, 2.89585225e+12,\n",
       "        1.96202500e+10],\n",
       "       [1.00040000e+08, 0.00000000e+00, 4.90169000e+09, 2.25010000e+10,\n",
       "        9.00511225e+10, 2.50204490e+11, 3.72597290e+11, 2.50081000e+09,\n",
       "        1.21032400e+10, 4.41176400e+10, 1.68202010e+11, 5.48458490e+11,\n",
       "        1.44028900e+10, 2.50225000e+09, 2.50156250e+09, 2.07164240e+11,\n",
       "        6.25336400e+10, 1.08950410e+11, 1.02490249e+12, 2.50324000e+09,\n",
       "        5.78643290e+11, 3.36604490e+11, 2.89184900e+10, 2.92992169e+12,\n",
       "        2.25184900e+10],\n",
       "       [3.60225000e+09, 4.90169000e+09, 0.00000000e+00, 6.40009000e+09,\n",
       "        5.29342225e+10, 1.85069000e+11, 2.92041000e+11, 4.00160001e+08,\n",
       "        1.60025000e+09, 1.96084100e+10, 1.15677440e+11, 4.49684000e+11,\n",
       "        3.61090000e+10, 1.44078400e+10, 1.44065025e+10, 1.48335250e+11,\n",
       "        3.24202500e+10, 6.76336400e+10, 8.88224000e+11, 4.00250001e+08,\n",
       "        4.77061000e+11, 2.60269000e+11, 1.00090000e+10, 2.69522500e+12,\n",
       "        6.40900000e+09],\n",
       "       [1.96014400e+10, 2.25010000e+10, 6.40009000e+09, 0.00000000e+00,\n",
       "        2.25378225e+10, 1.22676890e+11, 2.12053690e+11, 1.00000100e+10,\n",
       "        1.60064000e+09, 3.61024000e+09, 6.76828100e+10, 3.48900890e+11,\n",
       "        7.29072900e+10, 4.00062500e+10, 4.00050625e+10, 9.31416400e+10,\n",
       "        1.00230400e+10, 3.24372100e+10, 7.44264890e+11, 1.00006400e+10,\n",
       "        3.73079690e+11, 1.85076890e+11, 4.10890001e+08, 2.43927009e+12,\n",
       "        1.08900000e+07],\n",
       "       [8.41540225e+10, 9.00511225e+10, 5.29342225e+10, 2.25378225e+10,\n",
       "        0.00000000e+00, 4.00511225e+10, 9.63295225e+10, 6.25390625e+10,\n",
       "        3.61286225e+10, 8.10870250e+09, 1.21087025e+10, 1.94090623e+11,\n",
       "        1.76478323e+11, 1.22574823e+11, 1.22570560e+11, 2.40466225e+10,\n",
       "        2.50182250e+09, 9.00002504e+08, 5.07962623e+11, 6.25286225e+10,\n",
       "        2.12232523e+11, 7.84511225e+10, 1.69081225e+10, 1.99288172e+12,\n",
       "        2.25081225e+10],\n",
       "       [2.40310250e+11, 2.50204490e+11, 1.85069000e+11, 1.22676890e+11,\n",
       "        4.00511225e+10, 0.00000000e+00, 1.21640000e+10, 2.02679560e+11,\n",
       "        1.52256250e+11, 8.42020100e+10, 8.11764000e+09, 5.78250001e+10,\n",
       "        3.84656000e+11, 3.02749640e+11, 3.02741803e+11, 2.03125000e+09,\n",
       "        6.25722500e+10, 2.89518400e+10, 2.63125000e+11, 2.02656250e+11,\n",
       "        6.79240000e+10, 6.40000000e+09, 1.09000000e+11, 1.46794400e+12,\n",
       "        1.22600000e+11],\n",
       "       [3.60506250e+11, 3.72597290e+11, 2.92041000e+11, 2.12053690e+11,\n",
       "        9.63295225e+10, 1.21640000e+10, 0.00000000e+00, 3.14057960e+11,\n",
       "        2.50420250e+11, 1.60327610e+11, 4.01488400e+10, 1.69490001e+10,\n",
       "        5.33476000e+11, 4.36166440e+11, 4.36154603e+11, 2.41352500e+10,\n",
       "        1.29872250e+11, 7.86310400e+10, 1.62209000e+11, 3.14020250e+11,\n",
       "        2.26000000e+10, 9.64000000e+08, 1.93924000e+11, 1.21291600e+12,\n",
       "        2.11924000e+11],\n",
       "       [1.60121000e+09, 2.50081000e+09, 4.00160001e+08, 1.00000100e+10,\n",
       "        6.25390625e+10, 2.02679560e+11, 3.14057960e+11, 0.00000000e+00,\n",
       "        3.60081000e+09, 2.56108900e+10, 1.29684640e+11, 4.76906560e+11,\n",
       "        2.89067600e+10, 1.00057600e+10, 1.00046225e+10, 1.64143810e+11,\n",
       "        4.00240100e+10, 7.84384400e+10, 9.26278560e+11, 8.10000000e+05,\n",
       "        5.05085960e+11, 2.81079560e+11, 1.44115600e+10, 2.76128516e+12,\n",
       "        1.00115600e+10],\n",
       "       [1.00040000e+10, 1.21032400e+10, 1.60025000e+09, 1.60064000e+09,\n",
       "        3.61286225e+10, 1.52256250e+11, 2.50420250e+11, 3.60081000e+09,\n",
       "        0.00000000e+00, 1.00057600e+10, 9.00688900e+10, 3.97656250e+11,\n",
       "        5.29122500e+10, 2.56108900e+10, 2.56093025e+10, 1.19125000e+11,\n",
       "        1.96160000e+10, 4.84280900e+10, 8.14556250e+11, 3.60000000e+09,\n",
       "        4.23430250e+11, 2.21056250e+11, 3.60625000e+09, 2.56555025e+12,\n",
       "        1.60625000e+09],\n",
       "       [4.00193600e+10, 4.41176400e+10, 1.96084100e+10, 3.61024000e+09,\n",
       "        8.10870250e+09, 8.42020100e+10, 1.60327610e+11, 2.56108900e+10,\n",
       "        1.00057600e+10, 0.00000000e+00, 4.00348100e+10, 2.81530010e+11,\n",
       "        1.08934810e+11, 6.76324900e+10, 6.76297025e+10, 6.00827600e+10,\n",
       "        1.60256000e+09, 1.44084100e+10, 6.44238010e+11, 2.56057600e+10,\n",
       "        3.03289610e+11, 1.37002010e+11, 1.60001000e+09, 2.25519841e+12,\n",
       "        3.60001000e+09],\n",
       "       [1.60106090e+11, 1.68202010e+11, 1.15677440e+11, 6.76828100e+10,\n",
       "        1.21087025e+10, 8.11764000e+09, 4.01488400e+10, 1.29684640e+11,\n",
       "        9.00688900e+10, 4.00348100e+10, 0.00000000e+00, 1.09268640e+11,\n",
       "        2.81039240e+11, 2.11734560e+11, 2.11728823e+11, 2.02789000e+09,\n",
       "        2.56184900e+10, 6.40900002e+09, 3.63504640e+11, 1.29668890e+11,\n",
       "        1.22992840e+11, 2.89176400e+10, 5.76336400e+10, 1.69438244e+12,\n",
       "        6.76336400e+10],\n",
       "       [5.33770250e+11, 5.48458490e+11, 4.49684000e+11, 3.48900890e+11,\n",
       "        1.94090623e+11, 5.78250001e+10, 1.69490001e+10, 4.76906560e+11,\n",
       "        3.97656250e+11, 2.81530010e+11, 1.09268640e+11, 0.00000000e+00,\n",
       "        7.40561000e+11, 6.25048640e+11, 6.25033303e+11, 8.15312501e+10,\n",
       "        2.40652250e+11, 1.68592840e+11, 7.45000000e+10, 4.76856250e+11,\n",
       "        4.09000036e+08, 2.58250001e+10, 3.25525000e+11, 9.43109000e+11,\n",
       "        3.48725000e+11],\n",
       "       [1.69022500e+10, 1.44028900e+10, 3.61090000e+10, 7.29072900e+10,\n",
       "        1.76478323e+11, 3.84656000e+11, 5.33476000e+11, 2.89067600e+10,\n",
       "        5.29122500e+10, 1.08934810e+11, 2.81039240e+11, 7.40561000e+11,\n",
       "        0.00000000e+00, 4.90004000e+09, 4.90020250e+09, 3.30807250e+11,\n",
       "        1.36956250e+11, 2.02577440e+11, 1.28194100e+12, 2.89122500e+10,\n",
       "        7.75556000e+11, 4.90256000e+11, 8.41360000e+10, 3.35498400e+12,\n",
       "        7.29360000e+10],\n",
       "       [3.60169000e+09, 2.50225000e+09, 1.44078400e+10, 4.00062500e+10,\n",
       "        1.22574823e+11, 3.02749640e+11, 4.36166440e+11, 1.00057600e+10,\n",
       "        2.56108900e+10, 6.76324900e+10, 2.11734560e+11, 6.25048640e+11,\n",
       "        4.90004000e+09, 0.00000000e+00, 6.25010000e+04, 2.55201890e+11,\n",
       "        9.00532900e+10, 1.44473960e+11, 1.12861264e+12, 1.00108900e+10,\n",
       "        6.57242440e+11, 3.97149640e+11, 4.84336400e+10, 3.10365284e+12,\n",
       "        4.00336400e+10],\n",
       "       [3.60110250e+09, 2.50156250e+09, 1.44065025e+10, 4.00050625e+10,\n",
       "        1.22570560e+11, 3.02741803e+11, 4.36154603e+11, 1.00046225e+10,\n",
       "        2.56093025e+10, 6.76297025e+10, 2.11728823e+11, 6.25033303e+11,\n",
       "        4.90020250e+09, 6.25010000e+04, 0.00000000e+00, 2.55195303e+11,\n",
       "        9.00497025e+10, 1.44469722e+11, 1.12857730e+12, 1.00093025e+10,\n",
       "        6.57225603e+11, 3.97141803e+11, 4.84308025e+10, 3.10361400e+12,\n",
       "        4.00308025e+10],\n",
       "       [1.98169000e+11, 2.07164240e+11, 1.48335250e+11, 9.31416400e+10,\n",
       "        2.40466225e+10, 2.03125000e+09, 2.41352500e+10, 1.64143810e+11,\n",
       "        1.19125000e+11, 6.00827600e+10, 2.02789000e+09, 8.15312501e+10,\n",
       "        3.30807250e+11, 2.55201890e+11, 2.55195303e+11, 0.00000000e+00,\n",
       "        4.20610000e+10, 1.56470900e+10, 3.11331250e+11, 1.64125000e+11,\n",
       "        9.34452500e+10, 1.56312500e+10, 8.12812500e+10, 1.57918525e+12,\n",
       "        9.30812500e+10],\n",
       "       [5.76360000e+10, 6.25336400e+10, 3.24202500e+10, 1.00230400e+10,\n",
       "        2.50182250e+09, 6.25722500e+10, 1.29872250e+11, 4.00240100e+10,\n",
       "        1.96160000e+10, 1.60256000e+09, 2.56184900e+10, 2.40652250e+11,\n",
       "        1.36956250e+11, 9.00532900e+10, 9.00497025e+10, 4.20610000e+10,\n",
       "        0.00000000e+00, 6.40169000e+09, 5.81632250e+11, 4.00160000e+10,\n",
       "        2.60802250e+11, 1.08972250e+11, 6.40225000e+09, 2.13657025e+12,\n",
       "        1.00022500e+10],\n",
       "       [1.02453290e+11, 1.08950410e+11, 6.76336400e+10, 3.24372100e+10,\n",
       "        9.00002504e+08, 2.89518400e+10, 7.86310400e+10, 7.84384400e+10,\n",
       "        4.84280900e+10, 1.44084100e+10, 6.40900002e+09, 1.68592840e+11,\n",
       "        2.02577440e+11, 1.44473960e+11, 1.44469722e+11, 1.56470900e+10,\n",
       "        6.40169000e+09, 0.00000000e+00, 4.66268840e+11, 7.84280900e+10,\n",
       "        1.85535040e+11, 6.25518400e+10, 2.56078400e+10, 1.90918864e+12,\n",
       "        3.24078400e+10],\n",
       "       [1.00483025e+12, 1.02490249e+12, 8.88224000e+11, 7.44264890e+11,\n",
       "        5.07962623e+11, 2.63125000e+11, 1.62209000e+11, 9.26278560e+11,\n",
       "        8.14556250e+11, 6.44238010e+11, 3.63504640e+11, 7.45000000e+10,\n",
       "        1.28194100e+12, 1.12861264e+12, 1.12857730e+12, 3.11331250e+11,\n",
       "        5.81632250e+11, 4.66268840e+11, 0.00000000e+00, 9.26156250e+11,\n",
       "        6.38690001e+10, 1.87925000e+11, 7.09825000e+11, 4.90049000e+11,\n",
       "        7.43825000e+11],\n",
       "       [1.60400000e+09, 2.50324000e+09, 4.00250001e+08, 1.00006400e+10,\n",
       "        6.25286225e+10, 2.02656250e+11, 3.14020250e+11, 8.10000000e+05,\n",
       "        3.60000000e+09, 2.56057600e+10, 1.29668890e+11, 4.76856250e+11,\n",
       "        2.89122500e+10, 1.00108900e+10, 1.00093025e+10, 1.64125000e+11,\n",
       "        4.00160000e+10, 7.84280900e+10, 9.26156250e+11, 0.00000000e+00,\n",
       "        5.05030250e+11, 2.81056250e+11, 1.44062500e+10, 2.76115025e+12,\n",
       "        1.00062500e+10],\n",
       "       [5.63556250e+11, 5.78643290e+11, 4.77061000e+11, 3.73079690e+11,\n",
       "        2.12232523e+11, 6.79240000e+10, 2.26000000e+10, 5.05085960e+11,\n",
       "        4.23430250e+11, 3.03289610e+11, 1.22992840e+11, 4.09000036e+08,\n",
       "        7.75556000e+11, 6.57242440e+11, 6.57225603e+11, 9.34452500e+10,\n",
       "        2.60802250e+11, 1.85535040e+11, 6.38690001e+10, 5.05030250e+11,\n",
       "        0.00000000e+00, 3.27240000e+10, 3.48884000e+11, 9.04436000e+11,\n",
       "        3.72884000e+11],\n",
       "       [3.25110250e+11, 3.36604490e+11, 2.60269000e+11, 1.85076890e+11,\n",
       "        7.84511225e+10, 6.40000000e+09, 9.64000000e+08, 2.81079560e+11,\n",
       "        2.21056250e+11, 1.37002010e+11, 2.89176400e+10, 2.58250001e+10,\n",
       "        4.90256000e+11, 3.97149640e+11, 3.97141803e+11, 1.56312500e+10,\n",
       "        1.08972250e+11, 6.25518400e+10, 1.87925000e+11, 2.81056250e+11,\n",
       "        3.27240000e+10, 0.00000000e+00, 1.68200000e+11, 1.28074400e+12,\n",
       "        1.85000000e+11],\n",
       "       [2.56202500e+10, 2.89184900e+10, 1.00090000e+10, 4.10890001e+08,\n",
       "        1.69081225e+10, 1.09000000e+11, 1.93924000e+11, 1.44115600e+10,\n",
       "        3.60625000e+09, 1.60001000e+09, 5.76336400e+10, 3.25525000e+11,\n",
       "        8.41360000e+10, 4.84336400e+10, 4.84308025e+10, 8.12812500e+10,\n",
       "        6.40225000e+09, 2.56078400e+10, 7.09825000e+11, 1.44062500e+10,\n",
       "        3.48884000e+11, 1.68200000e+11, 0.00000000e+00, 2.37678400e+12,\n",
       "        4.00000001e+08],\n",
       "       [2.89585225e+12, 2.92992169e+12, 2.69522500e+12, 2.43927009e+12,\n",
       "        1.99288172e+12, 1.46794400e+12, 1.21291600e+12, 2.76128516e+12,\n",
       "        2.56555025e+12, 2.25519841e+12, 1.69438244e+12, 9.43109000e+11,\n",
       "        3.35498400e+12, 3.10365284e+12, 3.10361400e+12, 1.57918525e+12,\n",
       "        2.13657025e+12, 1.90918864e+12, 4.90049000e+11, 2.76115025e+12,\n",
       "        9.04436000e+11, 1.28074400e+12, 2.37678400e+12, 0.00000000e+00,\n",
       "        2.43878400e+12],\n",
       "       [1.96202500e+10, 2.25184900e+10, 6.40900000e+09, 1.08900000e+07,\n",
       "        2.25081225e+10, 1.22600000e+11, 2.11924000e+11, 1.00115600e+10,\n",
       "        1.60625000e+09, 3.60001000e+09, 6.76336400e+10, 3.48725000e+11,\n",
       "        7.29360000e+10, 4.00336400e+10, 4.00308025e+10, 9.30812500e+10,\n",
       "        1.00022500e+10, 3.24078400e+10, 7.43825000e+11, 1.00062500e+10,\n",
       "        3.72884000e+11, 1.85000000e+11, 4.00000001e+08, 2.43878400e+12,\n",
       "        0.00000000e+00]])"
      ]
     },
     "execution_count": 67,
     "metadata": {},
     "output_type": "execute_result"
    }
   ],
   "source": [
    "distance.cdist(df[variaveis], \n",
    "               df[variaveis], 'sqeuclidean')"
   ]
  },
  {
   "cell_type": "code",
   "execution_count": 68,
   "metadata": {},
   "outputs": [
    {
     "data": {
      "text/plain": [
       "(-3, 3)"
      ]
     },
     "execution_count": 68,
     "metadata": {},
     "output_type": "execute_result"
    },
    {
     "data": {
      "image/png": "[encoded data removed]",
      "text/plain": [
       "<Figure size 1008x432 with 1 Axes>"
      ]
     },
     "metadata": {
      "needs_background": "light"
     },
     "output_type": "display_data"
    }
   ],
   "source": [
    "df[z_variaveis].boxplot(rot=90,figsize=[14,6])\n",
    "plt.ylim(-3,3)"
   ]
  },
  {
   "cell_type": "code",
   "execution_count": 69,
   "metadata": {},
   "outputs": [],
   "source": [
    "Z = linkage(df[z_variaveis], method='average', metric='sqeuclidean')"
   ]
  },
  {
   "cell_type": "code",
   "execution_count": 70,
   "metadata": {},
   "outputs": [
    {
     "name": "stdout",
     "output_type": "stream",
     "text": [
      "Planejamento da Aglomeração\n",
      "\n",
      "[[0.00000000e+00 1.00000000e+00 7.26185050e-04 2.00000000e+00]\n",
      " [7.00000000e+00 1.90000000e+01 2.04318537e-03 2.00000000e+00]\n",
      " [9.00000000e+00 2.20000000e+01 1.00298166e-02 2.00000000e+00]\n",
      " [2.00000000e+00 8.00000000e+00 1.06352049e-02 2.00000000e+00]\n",
      " [2.50000000e+01 2.60000000e+01 1.86578579e-02 4.00000000e+00]\n",
      " [4.00000000e+00 1.60000000e+01 2.02293423e-02 2.00000000e+00]\n",
      " [3.00000000e+00 2.40000000e+01 2.74694922e-02 2.00000000e+00]\n",
      " [1.30000000e+01 1.40000000e+01 3.46194970e-02 2.00000000e+00]\n",
      " [2.70000000e+01 3.10000000e+01 6.02987379e-02 4.00000000e+00]\n",
      " [5.00000000e+00 1.50000000e+01 6.28892250e-02 2.00000000e+00]\n",
      " [2.80000000e+01 2.90000000e+01 6.85417411e-02 6.00000000e+00]\n",
      " [1.20000000e+01 3.20000000e+01 1.17099520e-01 3.00000000e+00]\n",
      " [1.00000000e+01 3.40000000e+01 1.43702725e-01 3.00000000e+00]\n",
      " [3.30000000e+01 3.50000000e+01 1.44588678e-01 1.00000000e+01]\n",
      " [1.70000000e+01 3.00000000e+01 1.62804975e-01 3.00000000e+00]\n",
      " [6.00000000e+00 2.10000000e+01 1.67064452e-01 2.00000000e+00]\n",
      " [3.70000000e+01 4.00000000e+01 3.35714276e-01 5.00000000e+00]\n",
      " [3.60000000e+01 3.80000000e+01 3.52244300e-01 1.30000000e+01]\n",
      " [3.90000000e+01 4.20000000e+01 6.07327052e-01 1.60000000e+01]\n",
      " [1.10000000e+01 2.00000000e+01 1.26582959e+00 2.00000000e+00]\n",
      " [4.10000000e+01 4.30000000e+01 2.26313369e+00 2.10000000e+01]\n",
      " [1.80000000e+01 2.30000000e+01 4.42813281e+00 2.00000000e+00]\n",
      " [4.40000000e+01 4.50000000e+01 6.99688710e+00 2.30000000e+01]\n",
      " [4.60000000e+01 4.70000000e+01 2.94043805e+01 2.50000000e+01]]\n"
     ]
    }
   ],
   "source": [
    "print ('Planejamento da Aglomeração\\n')\n",
    "print(Z)"
   ]
  },
  {
   "cell_type": "code",
   "execution_count": 71,
   "metadata": {},
   "outputs": [
    {
     "data": {
      "image/png": "[encoded data removed]",
      "text/plain": [
       "<Figure size 1800x720 with 1 Axes>"
      ]
     },
     "metadata": {
      "needs_background": "light"
     },
     "output_type": "display_data"
    }
   ],
   "source": [
    "fig = plt.figure(figsize=(25, 10))\n",
    "dn = dendrogram(Z)\n",
    "plt.title(\"Dendrograma\") \n",
    "plt.show()"
   ]
  },
  {
   "cell_type": "code",
   "execution_count": 72,
   "metadata": {},
   "outputs": [],
   "source": [
    "parada = pd.DataFrame(Z, columns=[\"c1\", \"c2\", \"dist\", \"n\"])"
   ]
  },
  {
   "cell_type": "code",
   "execution_count": 73,
   "metadata": {},
   "outputs": [
    {
     "data": {
      "text/html": [
       "<div>\n",
       "<style scoped>\n",
       "    .dataframe tbody tr th:only-of-type {\n",
       "        vertical-align: middle;\n",
       "    }\n",
       "\n",
       "    .dataframe tbody tr th {\n",
       "        vertical-align: top;\n",
       "    }\n",
       "\n",
       "    .dataframe thead th {\n",
       "        text-align: right;\n",
       "    }\n",
       "</style>\n",
       "<table border=\"1\" class=\"dataframe\">\n",
       "  <thead>\n",
       "    <tr style=\"text-align: right;\">\n",
       "      <th></th>\n",
       "      <th>c1</th>\n",
       "      <th>c2</th>\n",
       "      <th>dist</th>\n",
       "      <th>n</th>\n",
       "    </tr>\n",
       "  </thead>\n",
       "  <tbody>\n",
       "    <tr>\n",
       "      <th>0</th>\n",
       "      <td>0.0</td>\n",
       "      <td>1.0</td>\n",
       "      <td>0.000726</td>\n",
       "      <td>2.0</td>\n",
       "    </tr>\n",
       "    <tr>\n",
       "      <th>1</th>\n",
       "      <td>7.0</td>\n",
       "      <td>19.0</td>\n",
       "      <td>0.002043</td>\n",
       "      <td>2.0</td>\n",
       "    </tr>\n",
       "    <tr>\n",
       "      <th>2</th>\n",
       "      <td>9.0</td>\n",
       "      <td>22.0</td>\n",
       "      <td>0.010030</td>\n",
       "      <td>2.0</td>\n",
       "    </tr>\n",
       "    <tr>\n",
       "      <th>3</th>\n",
       "      <td>2.0</td>\n",
       "      <td>8.0</td>\n",
       "      <td>0.010635</td>\n",
       "      <td>2.0</td>\n",
       "    </tr>\n",
       "    <tr>\n",
       "      <th>4</th>\n",
       "      <td>25.0</td>\n",
       "      <td>26.0</td>\n",
       "      <td>0.018658</td>\n",
       "      <td>4.0</td>\n",
       "    </tr>\n",
       "  </tbody>\n",
       "</table>\n",
       "</div>"
      ],
      "text/plain": [
       "     c1    c2      dist    n\n",
       "0   0.0   1.0  0.000726  2.0\n",
       "1   7.0  19.0  0.002043  2.0\n",
       "2   9.0  22.0  0.010030  2.0\n",
       "3   2.0   8.0  0.010635  2.0\n",
       "4  25.0  26.0  0.018658  4.0"
      ]
     },
     "execution_count": 73,
     "metadata": {},
     "output_type": "execute_result"
    }
   ],
   "source": [
    "# As primeiras 5 linhas do Daframe Criado\n",
    "parada.head()"
   ]
  },
  {
   "cell_type": "code",
   "execution_count": 76,
   "metadata": {},
   "outputs": [],
   "source": [
    "parada['heterogeneidade'] = ((parada['dist'].shift(-1) - parada['dist']) / parada['dist']) * 100"
   ]
  },
  {
   "cell_type": "code",
   "execution_count": 77,
   "metadata": {},
   "outputs": [
    {
     "data": {
      "text/html": [
       "<div>\n",
       "<style scoped>\n",
       "    .dataframe tbody tr th:only-of-type {\n",
       "        vertical-align: middle;\n",
       "    }\n",
       "\n",
       "    .dataframe tbody tr th {\n",
       "        vertical-align: top;\n",
       "    }\n",
       "\n",
       "    .dataframe thead th {\n",
       "        text-align: right;\n",
       "    }\n",
       "</style>\n",
       "<table border=\"1\" class=\"dataframe\">\n",
       "  <thead>\n",
       "    <tr style=\"text-align: right;\">\n",
       "      <th></th>\n",
       "      <th>c1</th>\n",
       "      <th>c2</th>\n",
       "      <th>dist</th>\n",
       "      <th>n</th>\n",
       "      <th>heterogeneidade</th>\n",
       "    </tr>\n",
       "  </thead>\n",
       "  <tbody>\n",
       "    <tr>\n",
       "      <th>14</th>\n",
       "      <td>17.0</td>\n",
       "      <td>30.0</td>\n",
       "      <td>0.162805</td>\n",
       "      <td>3.0</td>\n",
       "      <td>2.616306</td>\n",
       "    </tr>\n",
       "    <tr>\n",
       "      <th>15</th>\n",
       "      <td>6.0</td>\n",
       "      <td>21.0</td>\n",
       "      <td>0.167064</td>\n",
       "      <td>2.0</td>\n",
       "      <td>100.948958</td>\n",
       "    </tr>\n",
       "    <tr>\n",
       "      <th>16</th>\n",
       "      <td>37.0</td>\n",
       "      <td>40.0</td>\n",
       "      <td>0.335714</td>\n",
       "      <td>5.0</td>\n",
       "      <td>4.923837</td>\n",
       "    </tr>\n",
       "    <tr>\n",
       "      <th>17</th>\n",
       "      <td>36.0</td>\n",
       "      <td>38.0</td>\n",
       "      <td>0.352244</td>\n",
       "      <td>13.0</td>\n",
       "      <td>72.416431</td>\n",
       "    </tr>\n",
       "    <tr>\n",
       "      <th>18</th>\n",
       "      <td>39.0</td>\n",
       "      <td>42.0</td>\n",
       "      <td>0.607327</td>\n",
       "      <td>16.0</td>\n",
       "      <td>108.426347</td>\n",
       "    </tr>\n",
       "    <tr>\n",
       "      <th>19</th>\n",
       "      <td>11.0</td>\n",
       "      <td>20.0</td>\n",
       "      <td>1.265830</td>\n",
       "      <td>2.0</td>\n",
       "      <td>78.786601</td>\n",
       "    </tr>\n",
       "    <tr>\n",
       "      <th>20</th>\n",
       "      <td>41.0</td>\n",
       "      <td>43.0</td>\n",
       "      <td>2.263134</td>\n",
       "      <td>21.0</td>\n",
       "      <td>95.663775</td>\n",
       "    </tr>\n",
       "    <tr>\n",
       "      <th>21</th>\n",
       "      <td>18.0</td>\n",
       "      <td>23.0</td>\n",
       "      <td>4.428133</td>\n",
       "      <td>2.0</td>\n",
       "      <td>58.009874</td>\n",
       "    </tr>\n",
       "    <tr>\n",
       "      <th>22</th>\n",
       "      <td>44.0</td>\n",
       "      <td>45.0</td>\n",
       "      <td>6.996887</td>\n",
       "      <td>23.0</td>\n",
       "      <td>320.249464</td>\n",
       "    </tr>\n",
       "    <tr>\n",
       "      <th>23</th>\n",
       "      <td>46.0</td>\n",
       "      <td>47.0</td>\n",
       "      <td>29.404381</td>\n",
       "      <td>25.0</td>\n",
       "      <td>NaN</td>\n",
       "    </tr>\n",
       "  </tbody>\n",
       "</table>\n",
       "</div>"
      ],
      "text/plain": [
       "      c1    c2       dist     n  heterogeneidade\n",
       "14  17.0  30.0   0.162805   3.0         2.616306\n",
       "15   6.0  21.0   0.167064   2.0       100.948958\n",
       "16  37.0  40.0   0.335714   5.0         4.923837\n",
       "17  36.0  38.0   0.352244  13.0        72.416431\n",
       "18  39.0  42.0   0.607327  16.0       108.426347\n",
       "19  11.0  20.0   1.265830   2.0        78.786601\n",
       "20  41.0  43.0   2.263134  21.0        95.663775\n",
       "21  18.0  23.0   4.428133   2.0        58.009874\n",
       "22  44.0  45.0   6.996887  23.0       320.249464\n",
       "23  46.0  47.0  29.404381  25.0              NaN"
      ]
     },
     "execution_count": 77,
     "metadata": {},
     "output_type": "execute_result"
    }
   ],
   "source": [
    "parada.tail(10)"
   ]
  },
  {
   "cell_type": "code",
   "execution_count": 91,
   "metadata": {},
   "outputs": [],
   "source": [
    "cluster = AgglomerativeClustering(n_clusters=5, affinity='sqeuclidean', linkage='average')  "
   ]
  },
  {
   "cell_type": "code",
   "execution_count": 92,
   "metadata": {},
   "outputs": [
    {
     "data": {
      "text/plain": [
       "array([2, 2, 2, 2, 2, 1, 1, 2, 2, 2, 1, 0, 2, 2, 2, 1, 2, 2, 3, 2, 0, 1,\n",
       "       2, 4, 2], dtype=int64)"
      ]
     },
     "execution_count": 92,
     "metadata": {},
     "output_type": "execute_result"
    }
   ],
   "source": [
    "cluster.fit_predict(df[z_variaveis])"
   ]
  },
  {
   "cell_type": "code",
   "execution_count": 93,
   "metadata": {},
   "outputs": [
    {
     "data": {
      "text/plain": [
       "AgglomerativeClustering(affinity='sqeuclidean', compute_full_tree='auto',\n",
       "                        connectivity=None, distance_threshold=None,\n",
       "                        linkage='average', memory=None, n_clusters=5,\n",
       "                        pooling_func='deprecated')"
      ]
     },
     "execution_count": 93,
     "metadata": {},
     "output_type": "execute_result"
    }
   ],
   "source": [
    "cluster.fit(df[z_variaveis])"
   ]
  },
  {
   "cell_type": "code",
   "execution_count": 94,
   "metadata": {},
   "outputs": [
    {
     "data": {
      "text/plain": [
       "{'affinity': 'sqeuclidean',\n",
       " 'compute_full_tree': 'auto',\n",
       " 'connectivity': None,\n",
       " 'distance_threshold': None,\n",
       " 'linkage': 'average',\n",
       " 'memory': None,\n",
       " 'n_clusters': 5,\n",
       " 'pooling_func': 'deprecated'}"
      ]
     },
     "execution_count": 94,
     "metadata": {},
     "output_type": "execute_result"
    }
   ],
   "source": [
    "cluster.get_params()"
   ]
  },
  {
   "cell_type": "code",
   "execution_count": 95,
   "metadata": {},
   "outputs": [
    {
     "data": {
      "text/plain": [
       "array([2, 2, 2, 2, 2, 1, 1, 2, 2, 2, 1, 0, 2, 2, 2, 1, 2, 2, 3, 2, 0, 1,\n",
       "       2, 4, 2], dtype=int64)"
      ]
     },
     "execution_count": 95,
     "metadata": {},
     "output_type": "execute_result"
    }
   ],
   "source": [
    "cluster.labels_"
   ]
  },
  {
   "cell_type": "code",
   "execution_count": 96,
   "metadata": {},
   "outputs": [
    {
     "data": {
      "text/plain": [
       "25"
      ]
     },
     "execution_count": 96,
     "metadata": {},
     "output_type": "execute_result"
    }
   ],
   "source": [
    "cluster.n_leaves_"
   ]
  },
  {
   "cell_type": "code",
   "execution_count": 97,
   "metadata": {},
   "outputs": [
    {
     "data": {
      "text/plain": [
       "5"
      ]
     },
     "execution_count": 97,
     "metadata": {},
     "output_type": "execute_result"
    }
   ],
   "source": [
    "cluster.n_clusters"
   ]
  },
  {
   "cell_type": "code",
   "execution_count": 98,
   "metadata": {},
   "outputs": [],
   "source": [
    "df = pd.concat([df, pd.DataFrame(cluster.fit_predict(df[z_variaveis]), columns=['grupo1'])], axis=1)"
   ]
  },
  {
   "cell_type": "code",
   "execution_count": 99,
   "metadata": {},
   "outputs": [
    {
     "data": {
      "text/html": [
       "<div>\n",
       "<style scoped>\n",
       "    .dataframe tbody tr th:only-of-type {\n",
       "        vertical-align: middle;\n",
       "    }\n",
       "\n",
       "    .dataframe tbody tr th {\n",
       "        vertical-align: top;\n",
       "    }\n",
       "\n",
       "    .dataframe thead th {\n",
       "        text-align: right;\n",
       "    }\n",
       "</style>\n",
       "<table border=\"1\" class=\"dataframe\">\n",
       "  <thead>\n",
       "    <tr style=\"text-align: right;\">\n",
       "      <th></th>\n",
       "      <th>Empresa</th>\n",
       "      <th>Itens</th>\n",
       "      <th>Lojas</th>\n",
       "      <th>Faturamento</th>\n",
       "      <th>z_Itens</th>\n",
       "      <th>z_Lojas</th>\n",
       "      <th>z_Faturamento</th>\n",
       "      <th>grupo</th>\n",
       "      <th>grupo1</th>\n",
       "    </tr>\n",
       "  </thead>\n",
       "  <tbody>\n",
       "    <tr>\n",
       "      <th>0</th>\n",
       "      <td>A</td>\n",
       "      <td>2500</td>\n",
       "      <td>3</td>\n",
       "      <td>250000</td>\n",
       "      <td>-0.642867</td>\n",
       "      <td>-0.616322</td>\n",
       "      <td>-0.815687</td>\n",
       "      <td>0</td>\n",
       "      <td>2</td>\n",
       "    </tr>\n",
       "    <tr>\n",
       "      <th>1</th>\n",
       "      <td>B</td>\n",
       "      <td>2700</td>\n",
       "      <td>3</td>\n",
       "      <td>240000</td>\n",
       "      <td>-0.632823</td>\n",
       "      <td>-0.616322</td>\n",
       "      <td>-0.840693</td>\n",
       "      <td>0</td>\n",
       "      <td>2</td>\n",
       "    </tr>\n",
       "    <tr>\n",
       "      <th>2</th>\n",
       "      <td>C</td>\n",
       "      <td>4000</td>\n",
       "      <td>4</td>\n",
       "      <td>310000</td>\n",
       "      <td>-0.567531</td>\n",
       "      <td>-0.430683</td>\n",
       "      <td>-0.665653</td>\n",
       "      <td>0</td>\n",
       "      <td>2</td>\n",
       "    </tr>\n",
       "  </tbody>\n",
       "</table>\n",
       "</div>"
      ],
      "text/plain": [
       "  Empresa  Itens  Lojas  Faturamento   z_Itens   z_Lojas  z_Faturamento  \\\n",
       "0       A   2500      3       250000 -0.642867 -0.616322      -0.815687   \n",
       "1       B   2700      3       240000 -0.632823 -0.616322      -0.840693   \n",
       "2       C   4000      4       310000 -0.567531 -0.430683      -0.665653   \n",
       "\n",
       "   grupo  grupo1  \n",
       "0      0       2  \n",
       "1      0       2  \n",
       "2      0       2  "
      ]
     },
     "execution_count": 99,
     "metadata": {},
     "output_type": "execute_result"
    }
   ],
   "source": [
    "df.head(3)"
   ]
  },
  {
   "cell_type": "code",
   "execution_count": 100,
   "metadata": {},
   "outputs": [
    {
     "data": {
      "text/plain": [
       "grupo1\n",
       "0     2\n",
       "1     5\n",
       "2    16\n",
       "3     1\n",
       "4     1\n",
       "Name: Empresa, dtype: int64"
      ]
     },
     "execution_count": 100,
     "metadata": {},
     "output_type": "execute_result"
    }
   ],
   "source": [
    "df.groupby('grupo1').count()['Empresa']"
   ]
  },
  {
   "cell_type": "code",
   "execution_count": 101,
   "metadata": {},
   "outputs": [],
   "source": [
    "grupo_3 = df.groupby('grupo1').mean()[z_variaveis].round(2)"
   ]
  },
  {
   "cell_type": "code",
   "execution_count": 102,
   "metadata": {},
   "outputs": [
    {
     "data": {
      "text/html": [
       "<div>\n",
       "<style scoped>\n",
       "    .dataframe tbody tr th:only-of-type {\n",
       "        vertical-align: middle;\n",
       "    }\n",
       "\n",
       "    .dataframe tbody tr th {\n",
       "        vertical-align: top;\n",
       "    }\n",
       "\n",
       "    .dataframe thead th {\n",
       "        text-align: right;\n",
       "    }\n",
       "</style>\n",
       "<table border=\"1\" class=\"dataframe\">\n",
       "  <thead>\n",
       "    <tr style=\"text-align: right;\">\n",
       "      <th></th>\n",
       "      <th>z_Itens</th>\n",
       "      <th>z_Lojas</th>\n",
       "      <th>z_Faturamento</th>\n",
       "    </tr>\n",
       "    <tr>\n",
       "      <th>grupo1</th>\n",
       "      <th></th>\n",
       "      <th></th>\n",
       "      <th></th>\n",
       "    </tr>\n",
       "  </thead>\n",
       "  <tbody>\n",
       "    <tr>\n",
       "      <th>0</th>\n",
       "      <td>0.91</td>\n",
       "      <td>1.24</td>\n",
       "      <td>1.03</td>\n",
       "    </tr>\n",
       "    <tr>\n",
       "      <th>1</th>\n",
       "      <td>0.10</td>\n",
       "      <td>0.20</td>\n",
       "      <td>0.44</td>\n",
       "    </tr>\n",
       "    <tr>\n",
       "      <th>2</th>\n",
       "      <td>-0.52</td>\n",
       "      <td>-0.56</td>\n",
       "      <td>-0.59</td>\n",
       "    </tr>\n",
       "    <tr>\n",
       "      <th>3</th>\n",
       "      <td>2.85</td>\n",
       "      <td>2.17</td>\n",
       "      <td>1.68</td>\n",
       "    </tr>\n",
       "    <tr>\n",
       "      <th>4</th>\n",
       "      <td>3.20</td>\n",
       "      <td>3.28</td>\n",
       "      <td>3.44</td>\n",
       "    </tr>\n",
       "  </tbody>\n",
       "</table>\n",
       "</div>"
      ],
      "text/plain": [
       "        z_Itens  z_Lojas  z_Faturamento\n",
       "grupo1                                 \n",
       "0          0.91     1.24           1.03\n",
       "1          0.10     0.20           0.44\n",
       "2         -0.52    -0.56          -0.59\n",
       "3          2.85     2.17           1.68\n",
       "4          3.20     3.28           3.44"
      ]
     },
     "execution_count": 102,
     "metadata": {},
     "output_type": "execute_result"
    }
   ],
   "source": [
    "grupo_3"
   ]
  },
  {
   "cell_type": "code",
   "execution_count": 103,
   "metadata": {},
   "outputs": [
    {
     "data": {
      "image/png": "[encoded data removed]",
      "text/plain": [
       "<Figure size 1080x360 with 1 Axes>"
      ]
     },
     "metadata": {
      "needs_background": "light"
     },
     "output_type": "display_data"
    }
   ],
   "source": [
    "plt.figure(figsize=(15,5))\n",
    "plt.plot(z_variaveis, grupo_3.loc[0], color='g')\n",
    "plt.plot(z_variaveis, grupo_3.loc[1], color='orange')\n",
    "plt.plot(z_variaveis, grupo_3.loc[2], color='red')\n",
    "plt.plot(z_variaveis, grupo_3.loc[3], color='pink')\n",
    "plt.plot(z_variaveis, grupo_3.loc[4], color='blue')\n",
    "plt.ylabel('Média')\n",
    "plt.title('Centroide dos Grupos - 5 Grupos')\n",
    "plt.legend([\"0\",\"1\", \"2\", \"3\", \"4\"], loc=1)\n",
    "plt.show()"
   ]
  },
  {
   "cell_type": "code",
   "execution_count": 104,
   "metadata": {},
   "outputs": [],
   "source": [
    "kmeans = KMeans(n_clusters=5, init=grupo_3, n_init=1).fit(df[z_variaveis])"
   ]
  },
  {
   "cell_type": "code",
   "execution_count": 105,
   "metadata": {},
   "outputs": [
    {
     "data": {
      "text/plain": [
       "KMeans(algorithm='auto', copy_x=True,\n",
       "       init=        z_Itens  z_Lojas  z_Faturamento\n",
       "grupo1                                 \n",
       "0          0.91     1.24           1.03\n",
       "1          0.10     0.20           0.44\n",
       "2         -0.52    -0.56          -0.59\n",
       "3          2.85     2.17           1.68\n",
       "4          3.20     3.28           3.44,\n",
       "       max_iter=300, n_clusters=5, n_init=1, n_jobs=None,\n",
       "       precompute_distances='auto', random_state=None, tol=0.0001, verbose=0)"
      ]
     },
     "execution_count": 105,
     "metadata": {},
     "output_type": "execute_result"
    }
   ],
   "source": [
    "kmeans"
   ]
  },
  {
   "cell_type": "code",
   "execution_count": 106,
   "metadata": {},
   "outputs": [],
   "source": [
    "df['kmeans'] = kmeans.labels_"
   ]
  },
  {
   "cell_type": "code",
   "execution_count": 107,
   "metadata": {},
   "outputs": [
    {
     "name": "stdout",
     "output_type": "stream",
     "text": [
      "Cluster  0 :  2\n",
      "Cluster  1 :  5\n",
      "Cluster  2 :  16\n",
      "Cluster  3 :  1\n",
      "Cluster  4 :  1\n"
     ]
    }
   ],
   "source": [
    "# Quantidade de casos por grupo\n",
    "lens = []\n",
    "for i in np.sort(list(df['kmeans'].unique())):\n",
    "    lens.append(len(df.loc[df['kmeans'] == i,:]))\n",
    "    print(\"Cluster \", i, \": \", lens[i])"
   ]
  },
  {
   "cell_type": "code",
   "execution_count": 108,
   "metadata": {},
   "outputs": [],
   "source": [
    "# Gera o centroide final dos grupos.\n",
    "k_means_centro = df.groupby('kmeans').mean()[z_variaveis].round(2)"
   ]
  },
  {
   "cell_type": "code",
   "execution_count": 109,
   "metadata": {},
   "outputs": [
    {
     "data": {
      "text/html": [
       "<div>\n",
       "<style scoped>\n",
       "    .dataframe tbody tr th:only-of-type {\n",
       "        vertical-align: middle;\n",
       "    }\n",
       "\n",
       "    .dataframe tbody tr th {\n",
       "        vertical-align: top;\n",
       "    }\n",
       "\n",
       "    .dataframe thead th {\n",
       "        text-align: right;\n",
       "    }\n",
       "</style>\n",
       "<table border=\"1\" class=\"dataframe\">\n",
       "  <thead>\n",
       "    <tr style=\"text-align: right;\">\n",
       "      <th></th>\n",
       "      <th>z_Itens</th>\n",
       "      <th>z_Lojas</th>\n",
       "      <th>z_Faturamento</th>\n",
       "    </tr>\n",
       "    <tr>\n",
       "      <th>kmeans</th>\n",
       "      <th></th>\n",
       "      <th></th>\n",
       "      <th></th>\n",
       "    </tr>\n",
       "  </thead>\n",
       "  <tbody>\n",
       "    <tr>\n",
       "      <th>0</th>\n",
       "      <td>0.91</td>\n",
       "      <td>1.24</td>\n",
       "      <td>1.03</td>\n",
       "    </tr>\n",
       "    <tr>\n",
       "      <th>1</th>\n",
       "      <td>0.10</td>\n",
       "      <td>0.20</td>\n",
       "      <td>0.44</td>\n",
       "    </tr>\n",
       "    <tr>\n",
       "      <th>2</th>\n",
       "      <td>-0.52</td>\n",
       "      <td>-0.56</td>\n",
       "      <td>-0.59</td>\n",
       "    </tr>\n",
       "    <tr>\n",
       "      <th>3</th>\n",
       "      <td>2.85</td>\n",
       "      <td>2.17</td>\n",
       "      <td>1.68</td>\n",
       "    </tr>\n",
       "    <tr>\n",
       "      <th>4</th>\n",
       "      <td>3.20</td>\n",
       "      <td>3.28</td>\n",
       "      <td>3.44</td>\n",
       "    </tr>\n",
       "  </tbody>\n",
       "</table>\n",
       "</div>"
      ],
      "text/plain": [
       "        z_Itens  z_Lojas  z_Faturamento\n",
       "kmeans                                 \n",
       "0          0.91     1.24           1.03\n",
       "1          0.10     0.20           0.44\n",
       "2         -0.52    -0.56          -0.59\n",
       "3          2.85     2.17           1.68\n",
       "4          3.20     3.28           3.44"
      ]
     },
     "execution_count": 109,
     "metadata": {},
     "output_type": "execute_result"
    }
   ],
   "source": [
    "k_means_centro"
   ]
  },
  {
   "cell_type": "code",
   "execution_count": 110,
   "metadata": {},
   "outputs": [
    {
     "data": {
      "image/png": "[encoded data removed]",
      "text/plain": [
       "<Figure size 1080x360 with 1 Axes>"
      ]
     },
     "metadata": {
      "needs_background": "light"
     },
     "output_type": "display_data"
    }
   ],
   "source": [
    "\n",
    "plt.figure(figsize=(15,5))\n",
    "plt.plot(z_variaveis, k_means_centro.loc[0], color='g')\n",
    "plt.plot(z_variaveis, k_means_centro.loc[1], color='orange')\n",
    "plt.plot(z_variaveis, k_means_centro.loc[2], color='red')\n",
    "plt.plot(z_variaveis, k_means_centro.loc[3], color='blue')\n",
    "plt.plot(z_variaveis, k_means_centro.loc[3], color='yellow')\n",
    "plt.xlabel('Variáveis')\n",
    "plt.ylabel('Média')\n",
    "plt.title('Centroide dos Grupos - K-Means')\n",
    "plt.legend([\"0\",\"1\",\"2\", \"3\", \"4\"], loc=1)\n",
    "plt.show()"
   ]
  },
  {
   "cell_type": "code",
   "execution_count": 111,
   "metadata": {},
   "outputs": [
    {
     "data": {
      "image/png": "[encoded data removed]",
      "text/plain": [
       "<Figure size 1080x2160 with 14 Axes>"
      ]
     },
     "metadata": {
      "needs_background": "light"
     },
     "output_type": "display_data"
    }
   ],
   "source": [
    "boxplot = df.boxplot(column=variaveis, by='kmeans', layout=(7,2), figsize=[15,30], showfliers=True)"
   ]
  },
  {
   "cell_type": "code",
   "execution_count": null,
   "metadata": {},
   "outputs": [],
   "source": []
  }
 ],
 "metadata": {
  "kernelspec": {
   "display_name": "Python 3",
   "language": "python",
   "name": "python3"
  },
  "language_info": {
   "codemirror_mode": {
    "name": "ipython",
    "version": 3
   },
   "file_extension": ".py",
   "mimetype": "text/x-python",
   "name": "python",
   "nbconvert_exporter": "python",
   "pygments_lexer": "ipython3",
   "version": "3.7.3"
  }
 },
 "nbformat": 4,
 "nbformat_minor": 4
}
