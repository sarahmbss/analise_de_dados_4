{
 "cells": [
  {
   "cell_type": "code",
   "execution_count": 79,
   "metadata": {},
   "outputs": [],
   "source": [
    "import pandas as pd\n",
    "import matplotlib.pyplot as plt\n",
    "from statsmodels.graphics.gofplots import qqplot\n",
    "import numpy as np\n",
    "import scipy as sp\n",
    "from scipy import stats as st\n",
    "import researchpy as rs\n",
    "from scipy.spatial import distance_matrix\n",
    "from scipy.spatial import distance\n",
    "from scipy.cluster.hierarchy import dendrogram, linkage\n",
    "\n",
    "from sklearn import preprocessing\n",
    "from sklearn.preprocessing import StandardScaler\n",
    "from sklearn.preprocessing import MinMaxScaler\n",
    "\n",
    "from sklearn.cluster import AgglomerativeClustering\n",
    "from sklearn.cluster import KMeans\n",
    "\n",
    "import statsmodels.api as sm\n",
    "from statsmodels.formula.api import ols\n",
    "import statsmodels as stm"
   ]
  },
  {
   "cell_type": "code",
   "execution_count": 80,
   "metadata": {},
   "outputs": [],
   "source": [
    "df=pd.read_excel(\"500MM.xlsx\")"
   ]
  },
  {
   "cell_type": "code",
   "execution_count": 81,
   "metadata": {},
   "outputs": [
    {
     "data": {
      "text/html": [
       "<div>\n",
       "<style scoped>\n",
       "    .dataframe tbody tr th:only-of-type {\n",
       "        vertical-align: middle;\n",
       "    }\n",
       "\n",
       "    .dataframe tbody tr th {\n",
       "        vertical-align: top;\n",
       "    }\n",
       "\n",
       "    .dataframe thead th {\n",
       "        text-align: right;\n",
       "    }\n",
       "</style>\n",
       "<table border=\"1\" class=\"dataframe\">\n",
       "  <thead>\n",
       "    <tr style=\"text-align: right;\">\n",
       "      <th></th>\n",
       "      <th>Empresa</th>\n",
       "      <th>Vendas</th>\n",
       "      <th>Rentabilidade</th>\n",
       "      <th>Liquidezgeral</th>\n",
       "      <th>Endividamentogeral</th>\n",
       "    </tr>\n",
       "  </thead>\n",
       "  <tbody>\n",
       "    <tr>\n",
       "      <th>0</th>\n",
       "      <td>PETROBRAS</td>\n",
       "      <td>47855158</td>\n",
       "      <td>21.938</td>\n",
       "      <td>1.0756</td>\n",
       "      <td>52.484</td>\n",
       "    </tr>\n",
       "    <tr>\n",
       "      <th>1</th>\n",
       "      <td>PETROBRAS DISTRIBUIDORA</td>\n",
       "      <td>13531695</td>\n",
       "      <td>10.528</td>\n",
       "      <td>1.2175</td>\n",
       "      <td>54.189</td>\n",
       "    </tr>\n",
       "    <tr>\n",
       "      <th>2</th>\n",
       "      <td>TELEMAR</td>\n",
       "      <td>7696136</td>\n",
       "      <td>7.836</td>\n",
       "      <td>0.4218</td>\n",
       "      <td>55.977</td>\n",
       "    </tr>\n",
       "  </tbody>\n",
       "</table>\n",
       "</div>"
      ],
      "text/plain": [
       "                   Empresa    Vendas  Rentabilidade  Liquidezgeral  \\\n",
       "0                PETROBRAS  47855158         21.938         1.0756   \n",
       "1  PETROBRAS DISTRIBUIDORA  13531695         10.528         1.2175   \n",
       "2                  TELEMAR   7696136          7.836         0.4218   \n",
       "\n",
       "   Endividamentogeral  \n",
       "0              52.484  \n",
       "1              54.189  \n",
       "2              55.977  "
      ]
     },
     "execution_count": 81,
     "metadata": {},
     "output_type": "execute_result"
    }
   ],
   "source": [
    "df.head(3)"
   ]
  },
  {
   "cell_type": "code",
   "execution_count": 82,
   "metadata": {},
   "outputs": [],
   "source": [
    "variaveis = [\"Vendas\", \"Rentabilidade\", \"Liquidezgeral\", \"Endividamentogeral\"]"
   ]
  },
  {
   "cell_type": "code",
   "execution_count": 83,
   "metadata": {},
   "outputs": [],
   "source": [
    "z_variaveis = []\n",
    "for var in variaveis:\n",
    "    z_variaveis.append(\"z_\" + var)"
   ]
  },
  {
   "cell_type": "code",
   "execution_count": 84,
   "metadata": {},
   "outputs": [
    {
     "data": {
      "text/plain": [
       "['z_Vendas', 'z_Rentabilidade', 'z_Liquidezgeral', 'z_Endividamentogeral']"
      ]
     },
     "execution_count": 84,
     "metadata": {},
     "output_type": "execute_result"
    }
   ],
   "source": [
    "z_variaveis"
   ]
  },
  {
   "cell_type": "code",
   "execution_count": 85,
   "metadata": {},
   "outputs": [],
   "source": [
    "X = df[variaveis]\n",
    "X_std = StandardScaler().fit_transform(X)"
   ]
  },
  {
   "cell_type": "code",
   "execution_count": 86,
   "metadata": {},
   "outputs": [
    {
     "data": {
      "text/plain": [
       "array([[ 6.58069940e+00,  4.89497449e-01,  6.67019485e-01,\n",
       "        -2.84351632e-01],\n",
       "       [ 1.43114702e+00, -3.06731786e-01,  1.04463492e+00,\n",
       "        -1.62533394e-01],\n",
       "       [ 5.55637560e-01, -4.94588850e-01, -1.07283234e+00,\n",
       "        -3.47850014e-02],\n",
       "       [ 4.89681030e-01, -5.48832926e-02, -5.73869021e-01,\n",
       "        -1.31005405e+00],\n",
       "       [ 4.59568940e-01, -2.98287988e-01, -5.55507171e-01,\n",
       "         6.85264384e-01],\n",
       "       [ 3.62059581e-01,  1.19994049e-01,  1.06645625e+00,\n",
       "        -3.72089343e-01],\n",
       "       [ 2.32639721e-01,  1.78542368e-01, -1.25991032e+00,\n",
       "        -1.73752532e+00],\n",
       "       [ 2.11681417e-01,  2.76029857e-01,  1.92006407e-01,\n",
       "         1.08522831e+00],\n",
       "       [ 1.65432390e-01,  4.22016847e-01, -1.11097176e-01,\n",
       "         2.15044128e+00],\n",
       "       [ 1.43812604e-01, -6.52229678e-01, -5.60297219e-01,\n",
       "         8.43182260e-02],\n",
       "       [ 5.53692633e-02, -6.04567577e-01, -2.38033444e-01,\n",
       "        -2.07116726e-01],\n",
       "       [ 2.29678640e-02, -3.77141060e+00,  4.00373488e-01,\n",
       "         8.45592904e-01],\n",
       "       [ 1.47986684e-04,  7.49231473e-01, -1.10024206e+00,\n",
       "         1.02349754e+00],\n",
       "       [-7.37392210e-03, -1.06174133e-01, -6.56630404e-01,\n",
       "         1.69596280e+00],\n",
       "       [-4.67497703e-02,  1.77495617e-01,  1.01270127e+00,\n",
       "         6.99839704e-01],\n",
       "       [-5.25670372e-02,  1.40859302e-01, -1.59263769e-01,\n",
       "        -1.19521911e-01],\n",
       "       [-7.88766145e-02,  1.46744280e+00,  9.99310427e-02,\n",
       "        -7.47332384e-01],\n",
       "       [-1.67335858e-01,  7.44346631e-01,  3.57529171e-01,\n",
       "        -4.35391958e-01],\n",
       "       [-1.77657178e-01,  1.99198271e-01, -3.53792934e-01,\n",
       "        -7.73696566e-01],\n",
       "       [-1.83161482e-01,  3.45567675e-03,  4.68764727e-01,\n",
       "        -1.47172150e-01],\n",
       "       [-1.92410388e-01,  5.82831426e-03,  4.10219698e-01,\n",
       "         5.37867889e-01],\n",
       "       [-1.97545168e-01,  3.33229960e-02, -1.12366007e+00,\n",
       "         7.75645658e-01],\n",
       "       [-2.10420750e-01,  2.30100619e+00, -9.52282801e-01,\n",
       "         8.29660079e-01],\n",
       "       [-2.20478318e-01,  5.35275397e-01,  2.79823951e-01,\n",
       "         5.36010250e-01],\n",
       "       [-2.37529388e-01,  4.04291849e-01, -2.89925629e-01,\n",
       "         1.46154307e+00],\n",
       "       [-2.51315053e-01,  1.45209044e+00, -1.15186813e+00,\n",
       "         2.59448841e+00],\n",
       "       [-2.58925930e-01, -4.02195554e-01,  1.16962324e-01,\n",
       "        -4.41107769e-01],\n",
       "       [-2.73083219e-01,  5.02803759e-02, -9.30195358e-01,\n",
       "        -2.18957458e+00],\n",
       "       [-2.81111630e-01,  7.59978126e-01,  1.61598119e+00,\n",
       "        -1.90469424e-01],\n",
       "       [-2.86504162e-01, -2.60325788e-01, -2.59056432e-01,\n",
       "         1.04671803e+00],\n",
       "       [-3.02930506e-01,  3.87822954e-01, -8.98080749e-02,\n",
       "         2.76726739e-01],\n",
       "       [-3.05079838e-01, -6.27316984e-01, -5.30758591e-01,\n",
       "        -1.81161653e+00],\n",
       "       [-3.08759776e-01,  1.29462268e-02,  6.69946737e-01,\n",
       "         4.61919040e-01],\n",
       "       [-3.23726928e-01, -8.72396482e-01, -1.68569235e+00,\n",
       "        -1.12121792e+00],\n",
       "       [-3.63034812e-01,  2.99477098e-01,  2.25252532e+00,\n",
       "        -4.74116582e-01],\n",
       "       [-3.67596177e-01, -2.86215450e-01, -1.52203238e+00,\n",
       "        -1.15058290e+00],\n",
       "       [-3.69594578e-01,  8.99335688e-01, -5.89835847e-01,\n",
       "        -1.39312909e-01],\n",
       "       [-3.72185898e-01,  1.40219527e+00,  1.07829299e-02,\n",
       "         1.59195360e-01],\n",
       "       [-3.80631842e-01,  2.62047485e+00, -5.71740111e-01,\n",
       "         1.08544265e+00],\n",
       "       [-3.95132701e-01,  4.95127579e-02,  3.65959656e-02,\n",
       "         5.19577291e-01],\n",
       "       [-3.96954066e-01, -1.58697907e+00,  8.01140825e-01,\n",
       "        -8.58076237e-01],\n",
       "       [-4.00580744e-01,  3.74703664e-01,  4.08356901e-01,\n",
       "         3.67108013e-01],\n",
       "       [-4.01015531e-01, -9.10707600e-01, -8.30402695e-01,\n",
       "         3.45816614e-01],\n",
       "       [-4.03002379e-01, -6.03311475e-01,  3.13256356e+00,\n",
       "        -6.89531238e-01],\n",
       "       [-4.04943319e-01,  7.79844080e-02,  2.87009023e-01,\n",
       "        -4.34891824e-01],\n",
       "       [-4.09708274e-01, -1.43485114e+00, -1.61676888e+00,\n",
       "        -4.00025372e-01],\n",
       "       [-4.13982782e-01, -1.13750383e+00,  7.04275413e-01,\n",
       "         1.77128719e-01],\n",
       "       [-4.21446629e-01, -2.63675394e-01,  2.57186185e+00,\n",
       "        -1.98866380e+00],\n",
       "       [-4.22097910e-01, -1.89025797e+00,  2.11166598e-01,\n",
       "        -1.28619054e+00],\n",
       "       [-4.25394221e-01, -7.00263026e-02, -3.31258420e-02,\n",
       "         6.19551126e-02]])"
      ]
     },
     "execution_count": 86,
     "metadata": {},
     "output_type": "execute_result"
    }
   ],
   "source": [
    "X_std"
   ]
  },
  {
   "cell_type": "code",
   "execution_count": 87,
   "metadata": {},
   "outputs": [],
   "source": [
    "df = pd.concat([df, pd.DataFrame(X_std, columns=z_variaveis)], axis=1)"
   ]
  },
  {
   "cell_type": "code",
   "execution_count": 88,
   "metadata": {},
   "outputs": [
    {
     "data": {
      "text/plain": [
       "array([[0.00000000e+00, 1.17810011e+15, 1.61274705e+15, ...,\n",
       "        2.17823918e+15, 2.17864440e+15, 2.18069592e+15],\n",
       "       [1.17810011e+15, 0.00000000e+00, 3.40537488e+13, ...,\n",
       "        1.52476734e+14, 1.52583960e+14, 1.53127236e+14],\n",
       "       [1.61274705e+15, 3.40537488e+13, 0.00000000e+00, ...,\n",
       "        4.24138025e+13, 4.24703636e+13, 4.27572132e+13],\n",
       "       ...,\n",
       "       [2.17823918e+15, 1.52476734e+14, 4.24138025e+13, ...,\n",
       "        0.00000000e+00, 1.88449218e+07, 6.92322176e+08],\n",
       "       [2.17864440e+15, 1.52583960e+14, 4.24703636e+13, ...,\n",
       "        1.88449218e+07, 0.00000000e+00, 4.82725877e+08],\n",
       "       [2.18069592e+15, 1.53127236e+14, 4.27572132e+13, ...,\n",
       "        6.92322176e+08, 4.82725877e+08, 0.00000000e+00]])"
      ]
     },
     "execution_count": 88,
     "metadata": {},
     "output_type": "execute_result"
    }
   ],
   "source": [
    "distance.cdist(df[variaveis], \n",
    "               df[variaveis], 'sqeuclidean')"
   ]
  },
  {
   "cell_type": "code",
   "execution_count": 89,
   "metadata": {},
   "outputs": [
    {
     "data": {
      "text/plain": [
       "(-3, 3)"
      ]
     },
     "execution_count": 89,
     "metadata": {},
     "output_type": "execute_result"
    },
    {
     "data": {
      "image/png": "[encoded data removed]",
      "text/plain": [
       "<Figure size 1008x432 with 1 Axes>"
      ]
     },
     "metadata": {
      "needs_background": "light"
     },
     "output_type": "display_data"
    }
   ],
   "source": [
    "df[z_variaveis].boxplot(rot=90,figsize=[14,6])\n",
    "plt.ylim(-3,3)"
   ]
  },
  {
   "cell_type": "code",
   "execution_count": 90,
   "metadata": {},
   "outputs": [],
   "source": [
    "Z = linkage(df[z_variaveis], method='single', metric='sqeuclidean')"
   ]
  },
  {
   "cell_type": "code",
   "execution_count": 91,
   "metadata": {},
   "outputs": [
    {
     "name": "stdout",
     "output_type": "stream",
     "text": [
      "Planejamento da Aglomeração\n",
      "\n",
      "[[2.00000000e+01 3.20000000e+01 8.68142071e-02 2.00000000e+00]\n",
      " [2.30000000e+01 4.10000000e+01 1.03268850e-01 2.00000000e+00]\n",
      " [1.90000000e+01 4.40000000e+01 1.70559462e-01 2.00000000e+00]\n",
      " [3.90000000e+01 5.00000000e+01 1.82933906e-01 3.00000000e+00]\n",
      " [3.00000000e+01 5.30000000e+01 1.97909405e-01 4.00000000e+00]\n",
      " [9.00000000e+00 1.00000000e+01 1.98882172e-01 2.00000000e+00]\n",
      " [5.10000000e+01 5.40000000e+01 2.08566326e-01 6.00000000e+00]\n",
      " [4.90000000e+01 5.60000000e+01 2.29484535e-01 7.00000000e+00]\n",
      " [1.50000000e+01 5.70000000e+01 2.32317534e-01 8.00000000e+00]\n",
      " [1.40000000e+01 5.80000000e+01 2.69812658e-01 9.00000000e+00]\n",
      " [2.60000000e+01 5.20000000e+01 2.80848392e-01 3.00000000e+00]\n",
      " [5.50000000e+01 6.00000000e+01 3.20509708e-01 5.00000000e+00]\n",
      " [2.20000000e+01 3.80000000e+01 3.41269507e-01 2.00000000e+00]\n",
      " [5.90000000e+01 6.10000000e+01 3.59704656e-01 1.40000000e+01]\n",
      " [3.30000000e+01 3.50000000e+01 3.73179601e-01 2.00000000e+00]\n",
      " [2.00000000e+00 6.30000000e+01 4.71328253e-01 1.50000000e+01]\n",
      " [2.90000000e+01 6.50000000e+01 4.73087783e-01 1.60000000e+01]\n",
      " [1.80000000e+01 6.60000000e+01 4.84837055e-01 1.70000000e+01]\n",
      " [1.30000000e+01 2.40000000e+01 5.02972058e-01 2.00000000e+00]\n",
      " [4.20000000e+01 6.70000000e+01 5.04986907e-01 1.80000000e+01]\n",
      " [1.70000000e+01 6.90000000e+01 5.05469260e-01 1.90000000e+01]\n",
      " [7.00000000e+00 7.00000000e+01 5.63322687e-01 2.00000000e+01]\n",
      " [6.00000000e+00 2.70000000e+01 5.85267322e-01 2.00000000e+00]\n",
      " [4.00000000e+00 7.10000000e+01 5.86136013e-01 2.10000000e+01]\n",
      " [6.80000000e+01 7.30000000e+01 5.92112770e-01 2.30000000e+01]\n",
      " [1.20000000e+01 2.10000000e+01 6.13586492e-01 2.00000000e+00]\n",
      " [4.00000000e+01 4.80000000e+01 6.23961747e-01 2.00000000e+00]\n",
      " [8.00000000e+00 7.40000000e+01 6.69252732e-01 2.40000000e+01]\n",
      " [3.60000000e+01 7.70000000e+01 6.89206138e-01 2.50000000e+01]\n",
      " [1.60000000e+01 7.80000000e+01 6.94356739e-01 2.60000000e+01]\n",
      " [3.70000000e+01 7.90000000e+01 7.02724580e-01 2.70000000e+01]\n",
      " [2.80000000e+01 3.40000000e+01 7.04416752e-01 2.00000000e+00]\n",
      " [5.00000000e+00 8.00000000e+01 7.18670104e-01 2.80000000e+01]\n",
      " [3.10000000e+01 7.20000000e+01 7.62563986e-01 3.00000000e+00]\n",
      " [3.00000000e+00 8.30000000e+01 7.73942123e-01 4.00000000e+00]\n",
      " [8.20000000e+01 8.40000000e+01 8.46010562e-01 3.20000000e+01]\n",
      " [4.50000000e+01 6.40000000e+01 8.48617169e-01 3.00000000e+00]\n",
      " [7.50000000e+01 8.50000000e+01 8.72731284e-01 3.40000000e+01]\n",
      " [8.60000000e+01 8.70000000e+01 9.89492343e-01 3.70000000e+01]\n",
      " [8.10000000e+01 8.80000000e+01 1.15821227e+00 3.90000000e+01]\n",
      " [4.60000000e+01 7.60000000e+01 1.28335018e+00 3.00000000e+00]\n",
      " [8.90000000e+01 9.00000000e+01 1.29187391e+00 4.20000000e+01]\n",
      " [1.00000000e+00 9.10000000e+01 1.36943277e+00 4.30000000e+01]\n",
      " [4.30000000e+01 9.20000000e+01 1.63749538e+00 4.40000000e+01]\n",
      " [4.70000000e+01 9.30000000e+01 2.11782469e+00 4.50000000e+01]\n",
      " [6.20000000e+01 9.40000000e+01 2.21104757e+00 4.70000000e+01]\n",
      " [2.50000000e+01 9.50000000e+01 2.51511207e+00 4.80000000e+01]\n",
      " [1.10000000e+01 9.60000000e+01 7.66759149e+00 4.90000000e+01]\n",
      " [0.00000000e+00 9.70000000e+01 2.73093038e+01 5.00000000e+01]]\n"
     ]
    }
   ],
   "source": [
    "print ('Planejamento da Aglomeração\\n')\n",
    "print(Z)"
   ]
  },
  {
   "cell_type": "code",
   "execution_count": 92,
   "metadata": {},
   "outputs": [
    {
     "data": {
      "image/png": "[encoded data removed]",
      "text/plain": [
       "<Figure size 1800x720 with 1 Axes>"
      ]
     },
     "metadata": {
      "needs_background": "light"
     },
     "output_type": "display_data"
    }
   ],
   "source": [
    "fig = plt.figure(figsize=(25, 10))\n",
    "dn = dendrogram(Z)\n",
    "plt.title(\"Dendrograma\") \n",
    "plt.show()"
   ]
  },
  {
   "cell_type": "code",
   "execution_count": 93,
   "metadata": {},
   "outputs": [],
   "source": [
    "parada = pd.DataFrame(Z, columns=[\"c1\", \"c2\", \"dist\", \"n\"])"
   ]
  },
  {
   "cell_type": "code",
   "execution_count": 94,
   "metadata": {},
   "outputs": [
    {
     "data": {
      "text/html": [
       "<div>\n",
       "<style scoped>\n",
       "    .dataframe tbody tr th:only-of-type {\n",
       "        vertical-align: middle;\n",
       "    }\n",
       "\n",
       "    .dataframe tbody tr th {\n",
       "        vertical-align: top;\n",
       "    }\n",
       "\n",
       "    .dataframe thead th {\n",
       "        text-align: right;\n",
       "    }\n",
       "</style>\n",
       "<table border=\"1\" class=\"dataframe\">\n",
       "  <thead>\n",
       "    <tr style=\"text-align: right;\">\n",
       "      <th></th>\n",
       "      <th>c1</th>\n",
       "      <th>c2</th>\n",
       "      <th>dist</th>\n",
       "      <th>n</th>\n",
       "    </tr>\n",
       "  </thead>\n",
       "  <tbody>\n",
       "    <tr>\n",
       "      <th>0</th>\n",
       "      <td>20.0</td>\n",
       "      <td>32.0</td>\n",
       "      <td>0.086814</td>\n",
       "      <td>2.0</td>\n",
       "    </tr>\n",
       "    <tr>\n",
       "      <th>1</th>\n",
       "      <td>23.0</td>\n",
       "      <td>41.0</td>\n",
       "      <td>0.103269</td>\n",
       "      <td>2.0</td>\n",
       "    </tr>\n",
       "    <tr>\n",
       "      <th>2</th>\n",
       "      <td>19.0</td>\n",
       "      <td>44.0</td>\n",
       "      <td>0.170559</td>\n",
       "      <td>2.0</td>\n",
       "    </tr>\n",
       "    <tr>\n",
       "      <th>3</th>\n",
       "      <td>39.0</td>\n",
       "      <td>50.0</td>\n",
       "      <td>0.182934</td>\n",
       "      <td>3.0</td>\n",
       "    </tr>\n",
       "    <tr>\n",
       "      <th>4</th>\n",
       "      <td>30.0</td>\n",
       "      <td>53.0</td>\n",
       "      <td>0.197909</td>\n",
       "      <td>4.0</td>\n",
       "    </tr>\n",
       "  </tbody>\n",
       "</table>\n",
       "</div>"
      ],
      "text/plain": [
       "     c1    c2      dist    n\n",
       "0  20.0  32.0  0.086814  2.0\n",
       "1  23.0  41.0  0.103269  2.0\n",
       "2  19.0  44.0  0.170559  2.0\n",
       "3  39.0  50.0  0.182934  3.0\n",
       "4  30.0  53.0  0.197909  4.0"
      ]
     },
     "execution_count": 94,
     "metadata": {},
     "output_type": "execute_result"
    }
   ],
   "source": [
    "# As primeiras 5 linhas do Daframe Criado\n",
    "parada.head()"
   ]
  },
  {
   "cell_type": "code",
   "execution_count": 95,
   "metadata": {},
   "outputs": [],
   "source": [
    "parada['heterogeneidade'] = ((parada['dist'].shift(-1) - parada['dist']) / parada['dist']) * 100"
   ]
  },
  {
   "cell_type": "code",
   "execution_count": 96,
   "metadata": {},
   "outputs": [
    {
     "data": {
      "text/html": [
       "<div>\n",
       "<style scoped>\n",
       "    .dataframe tbody tr th:only-of-type {\n",
       "        vertical-align: middle;\n",
       "    }\n",
       "\n",
       "    .dataframe tbody tr th {\n",
       "        vertical-align: top;\n",
       "    }\n",
       "\n",
       "    .dataframe thead th {\n",
       "        text-align: right;\n",
       "    }\n",
       "</style>\n",
       "<table border=\"1\" class=\"dataframe\">\n",
       "  <thead>\n",
       "    <tr style=\"text-align: right;\">\n",
       "      <th></th>\n",
       "      <th>c1</th>\n",
       "      <th>c2</th>\n",
       "      <th>dist</th>\n",
       "      <th>n</th>\n",
       "      <th>heterogeneidade</th>\n",
       "    </tr>\n",
       "  </thead>\n",
       "  <tbody>\n",
       "    <tr>\n",
       "      <th>39</th>\n",
       "      <td>81.0</td>\n",
       "      <td>88.0</td>\n",
       "      <td>1.158212</td>\n",
       "      <td>39.0</td>\n",
       "      <td>10.804402</td>\n",
       "    </tr>\n",
       "    <tr>\n",
       "      <th>40</th>\n",
       "      <td>46.0</td>\n",
       "      <td>76.0</td>\n",
       "      <td>1.283350</td>\n",
       "      <td>3.0</td>\n",
       "      <td>0.664178</td>\n",
       "    </tr>\n",
       "    <tr>\n",
       "      <th>41</th>\n",
       "      <td>89.0</td>\n",
       "      <td>90.0</td>\n",
       "      <td>1.291874</td>\n",
       "      <td>42.0</td>\n",
       "      <td>6.003593</td>\n",
       "    </tr>\n",
       "    <tr>\n",
       "      <th>42</th>\n",
       "      <td>1.0</td>\n",
       "      <td>91.0</td>\n",
       "      <td>1.369433</td>\n",
       "      <td>43.0</td>\n",
       "      <td>19.574719</td>\n",
       "    </tr>\n",
       "    <tr>\n",
       "      <th>43</th>\n",
       "      <td>43.0</td>\n",
       "      <td>92.0</td>\n",
       "      <td>1.637495</td>\n",
       "      <td>44.0</td>\n",
       "      <td>29.333170</td>\n",
       "    </tr>\n",
       "    <tr>\n",
       "      <th>44</th>\n",
       "      <td>47.0</td>\n",
       "      <td>93.0</td>\n",
       "      <td>2.117825</td>\n",
       "      <td>45.0</td>\n",
       "      <td>4.401822</td>\n",
       "    </tr>\n",
       "    <tr>\n",
       "      <th>45</th>\n",
       "      <td>62.0</td>\n",
       "      <td>94.0</td>\n",
       "      <td>2.211048</td>\n",
       "      <td>47.0</td>\n",
       "      <td>13.752056</td>\n",
       "    </tr>\n",
       "    <tr>\n",
       "      <th>46</th>\n",
       "      <td>25.0</td>\n",
       "      <td>95.0</td>\n",
       "      <td>2.515112</td>\n",
       "      <td>48.0</td>\n",
       "      <td>204.860828</td>\n",
       "    </tr>\n",
       "    <tr>\n",
       "      <th>47</th>\n",
       "      <td>11.0</td>\n",
       "      <td>96.0</td>\n",
       "      <td>7.667591</td>\n",
       "      <td>49.0</td>\n",
       "      <td>256.165346</td>\n",
       "    </tr>\n",
       "    <tr>\n",
       "      <th>48</th>\n",
       "      <td>0.0</td>\n",
       "      <td>97.0</td>\n",
       "      <td>27.309304</td>\n",
       "      <td>50.0</td>\n",
       "      <td>NaN</td>\n",
       "    </tr>\n",
       "  </tbody>\n",
       "</table>\n",
       "</div>"
      ],
      "text/plain": [
       "      c1    c2       dist     n  heterogeneidade\n",
       "39  81.0  88.0   1.158212  39.0        10.804402\n",
       "40  46.0  76.0   1.283350   3.0         0.664178\n",
       "41  89.0  90.0   1.291874  42.0         6.003593\n",
       "42   1.0  91.0   1.369433  43.0        19.574719\n",
       "43  43.0  92.0   1.637495  44.0        29.333170\n",
       "44  47.0  93.0   2.117825  45.0         4.401822\n",
       "45  62.0  94.0   2.211048  47.0        13.752056\n",
       "46  25.0  95.0   2.515112  48.0       204.860828\n",
       "47  11.0  96.0   7.667591  49.0       256.165346\n",
       "48   0.0  97.0  27.309304  50.0              NaN"
      ]
     },
     "execution_count": 96,
     "metadata": {},
     "output_type": "execute_result"
    }
   ],
   "source": [
    "parada.tail(10)"
   ]
  },
  {
   "cell_type": "code",
   "execution_count": 97,
   "metadata": {},
   "outputs": [],
   "source": [
    "cluster = AgglomerativeClustering(n_clusters=2, affinity='sqeuclidean', linkage='single')  "
   ]
  },
  {
   "cell_type": "code",
   "execution_count": 98,
   "metadata": {},
   "outputs": [
    {
     "data": {
      "text/plain": [
       "array([1, 0, 0, 0, 0, 0, 0, 0, 0, 0, 0, 0, 0, 0, 0, 0, 0, 0, 0, 0, 0, 0,\n",
       "       0, 0, 0, 0, 0, 0, 0, 0, 0, 0, 0, 0, 0, 0, 0, 0, 0, 0, 0, 0, 0, 0,\n",
       "       0, 0, 0, 0, 0, 0], dtype=int64)"
      ]
     },
     "execution_count": 98,
     "metadata": {},
     "output_type": "execute_result"
    }
   ],
   "source": [
    "cluster.fit_predict(df[z_variaveis])"
   ]
  },
  {
   "cell_type": "code",
   "execution_count": 99,
   "metadata": {},
   "outputs": [
    {
     "data": {
      "text/plain": [
       "AgglomerativeClustering(affinity='sqeuclidean', compute_full_tree='auto',\n",
       "                        connectivity=None, distance_threshold=None,\n",
       "                        linkage='single', memory=None, n_clusters=2,\n",
       "                        pooling_func='deprecated')"
      ]
     },
     "execution_count": 99,
     "metadata": {},
     "output_type": "execute_result"
    }
   ],
   "source": [
    "cluster.fit(df[z_variaveis])"
   ]
  },
  {
   "cell_type": "code",
   "execution_count": 100,
   "metadata": {},
   "outputs": [
    {
     "data": {
      "text/plain": [
       "{'affinity': 'sqeuclidean',\n",
       " 'compute_full_tree': 'auto',\n",
       " 'connectivity': None,\n",
       " 'distance_threshold': None,\n",
       " 'linkage': 'single',\n",
       " 'memory': None,\n",
       " 'n_clusters': 2,\n",
       " 'pooling_func': 'deprecated'}"
      ]
     },
     "execution_count": 100,
     "metadata": {},
     "output_type": "execute_result"
    }
   ],
   "source": [
    "cluster.get_params()"
   ]
  },
  {
   "cell_type": "code",
   "execution_count": 101,
   "metadata": {},
   "outputs": [
    {
     "data": {
      "text/plain": [
       "array([1, 0, 0, 0, 0, 0, 0, 0, 0, 0, 0, 0, 0, 0, 0, 0, 0, 0, 0, 0, 0, 0,\n",
       "       0, 0, 0, 0, 0, 0, 0, 0, 0, 0, 0, 0, 0, 0, 0, 0, 0, 0, 0, 0, 0, 0,\n",
       "       0, 0, 0, 0, 0, 0], dtype=int64)"
      ]
     },
     "execution_count": 101,
     "metadata": {},
     "output_type": "execute_result"
    }
   ],
   "source": [
    "cluster.labels_"
   ]
  },
  {
   "cell_type": "code",
   "execution_count": 102,
   "metadata": {},
   "outputs": [
    {
     "data": {
      "text/plain": [
       "50"
      ]
     },
     "execution_count": 102,
     "metadata": {},
     "output_type": "execute_result"
    }
   ],
   "source": [
    "cluster.n_leaves_"
   ]
  },
  {
   "cell_type": "code",
   "execution_count": 103,
   "metadata": {},
   "outputs": [
    {
     "data": {
      "text/plain": [
       "2"
      ]
     },
     "execution_count": 103,
     "metadata": {},
     "output_type": "execute_result"
    }
   ],
   "source": [
    "cluster.n_clusters"
   ]
  },
  {
   "cell_type": "code",
   "execution_count": 104,
   "metadata": {},
   "outputs": [],
   "source": [
    "df = pd.concat([df, pd.DataFrame(cluster.fit_predict(df[z_variaveis]), columns=['grupo6'])], axis=1)"
   ]
  },
  {
   "cell_type": "code",
   "execution_count": 105,
   "metadata": {},
   "outputs": [
    {
     "data": {
      "text/html": [
       "<div>\n",
       "<style scoped>\n",
       "    .dataframe tbody tr th:only-of-type {\n",
       "        vertical-align: middle;\n",
       "    }\n",
       "\n",
       "    .dataframe tbody tr th {\n",
       "        vertical-align: top;\n",
       "    }\n",
       "\n",
       "    .dataframe thead th {\n",
       "        text-align: right;\n",
       "    }\n",
       "</style>\n",
       "<table border=\"1\" class=\"dataframe\">\n",
       "  <thead>\n",
       "    <tr style=\"text-align: right;\">\n",
       "      <th></th>\n",
       "      <th>Empresa</th>\n",
       "      <th>Vendas</th>\n",
       "      <th>Rentabilidade</th>\n",
       "      <th>Liquidezgeral</th>\n",
       "      <th>Endividamentogeral</th>\n",
       "      <th>z_Vendas</th>\n",
       "      <th>z_Rentabilidade</th>\n",
       "      <th>z_Liquidezgeral</th>\n",
       "      <th>z_Endividamentogeral</th>\n",
       "      <th>grupo6</th>\n",
       "    </tr>\n",
       "  </thead>\n",
       "  <tbody>\n",
       "    <tr>\n",
       "      <th>0</th>\n",
       "      <td>PETROBRAS</td>\n",
       "      <td>47855158</td>\n",
       "      <td>21.938</td>\n",
       "      <td>1.0756</td>\n",
       "      <td>52.484</td>\n",
       "      <td>6.580699</td>\n",
       "      <td>0.489497</td>\n",
       "      <td>0.667019</td>\n",
       "      <td>-0.284352</td>\n",
       "      <td>1</td>\n",
       "    </tr>\n",
       "    <tr>\n",
       "      <th>1</th>\n",
       "      <td>PETROBRAS DISTRIBUIDORA</td>\n",
       "      <td>13531695</td>\n",
       "      <td>10.528</td>\n",
       "      <td>1.2175</td>\n",
       "      <td>54.189</td>\n",
       "      <td>1.431147</td>\n",
       "      <td>-0.306732</td>\n",
       "      <td>1.044635</td>\n",
       "      <td>-0.162533</td>\n",
       "      <td>0</td>\n",
       "    </tr>\n",
       "    <tr>\n",
       "      <th>2</th>\n",
       "      <td>TELEMAR</td>\n",
       "      <td>7696136</td>\n",
       "      <td>7.836</td>\n",
       "      <td>0.4218</td>\n",
       "      <td>55.977</td>\n",
       "      <td>0.555638</td>\n",
       "      <td>-0.494589</td>\n",
       "      <td>-1.072832</td>\n",
       "      <td>-0.034785</td>\n",
       "      <td>0</td>\n",
       "    </tr>\n",
       "  </tbody>\n",
       "</table>\n",
       "</div>"
      ],
      "text/plain": [
       "                   Empresa    Vendas  Rentabilidade  Liquidezgeral  \\\n",
       "0                PETROBRAS  47855158         21.938         1.0756   \n",
       "1  PETROBRAS DISTRIBUIDORA  13531695         10.528         1.2175   \n",
       "2                  TELEMAR   7696136          7.836         0.4218   \n",
       "\n",
       "   Endividamentogeral  z_Vendas  z_Rentabilidade  z_Liquidezgeral  \\\n",
       "0              52.484  6.580699         0.489497         0.667019   \n",
       "1              54.189  1.431147        -0.306732         1.044635   \n",
       "2              55.977  0.555638        -0.494589        -1.072832   \n",
       "\n",
       "   z_Endividamentogeral  grupo6  \n",
       "0             -0.284352       1  \n",
       "1             -0.162533       0  \n",
       "2             -0.034785       0  "
      ]
     },
     "execution_count": 105,
     "metadata": {},
     "output_type": "execute_result"
    }
   ],
   "source": [
    "df.head(3)"
   ]
  },
  {
   "cell_type": "code",
   "execution_count": 106,
   "metadata": {},
   "outputs": [
    {
     "data": {
      "text/plain": [
       "grupo6\n",
       "0    49\n",
       "1     1\n",
       "Name: Empresa, dtype: int64"
      ]
     },
     "execution_count": 106,
     "metadata": {},
     "output_type": "execute_result"
    }
   ],
   "source": [
    "df.groupby('grupo6').count()['Empresa']"
   ]
  },
  {
   "cell_type": "code",
   "execution_count": 107,
   "metadata": {},
   "outputs": [
    {
     "data": {
      "text/plain": [
       "grupo6\n",
       "0    49\n",
       "1     1\n",
       "Name: Empresa, dtype: int64"
      ]
     },
     "execution_count": 107,
     "metadata": {},
     "output_type": "execute_result"
    }
   ],
   "source": [
    "df.groupby('grupo6').count()['Empresa']"
   ]
  },
  {
   "cell_type": "code",
   "execution_count": 108,
   "metadata": {},
   "outputs": [],
   "source": [
    "grupo_3 = df.groupby('grupo6').mean()[z_variaveis].round(2)"
   ]
  },
  {
   "cell_type": "code",
   "execution_count": 109,
   "metadata": {},
   "outputs": [
    {
     "data": {
      "text/html": [
       "<div>\n",
       "<style scoped>\n",
       "    .dataframe tbody tr th:only-of-type {\n",
       "        vertical-align: middle;\n",
       "    }\n",
       "\n",
       "    .dataframe tbody tr th {\n",
       "        vertical-align: top;\n",
       "    }\n",
       "\n",
       "    .dataframe thead th {\n",
       "        text-align: right;\n",
       "    }\n",
       "</style>\n",
       "<table border=\"1\" class=\"dataframe\">\n",
       "  <thead>\n",
       "    <tr style=\"text-align: right;\">\n",
       "      <th></th>\n",
       "      <th>z_Vendas</th>\n",
       "      <th>z_Rentabilidade</th>\n",
       "      <th>z_Liquidezgeral</th>\n",
       "      <th>z_Endividamentogeral</th>\n",
       "    </tr>\n",
       "    <tr>\n",
       "      <th>grupo6</th>\n",
       "      <th></th>\n",
       "      <th></th>\n",
       "      <th></th>\n",
       "      <th></th>\n",
       "    </tr>\n",
       "  </thead>\n",
       "  <tbody>\n",
       "    <tr>\n",
       "      <th>0</th>\n",
       "      <td>-0.13</td>\n",
       "      <td>-0.01</td>\n",
       "      <td>-0.01</td>\n",
       "      <td>0.01</td>\n",
       "    </tr>\n",
       "    <tr>\n",
       "      <th>1</th>\n",
       "      <td>6.58</td>\n",
       "      <td>0.49</td>\n",
       "      <td>0.67</td>\n",
       "      <td>-0.28</td>\n",
       "    </tr>\n",
       "  </tbody>\n",
       "</table>\n",
       "</div>"
      ],
      "text/plain": [
       "        z_Vendas  z_Rentabilidade  z_Liquidezgeral  z_Endividamentogeral\n",
       "grupo6                                                                  \n",
       "0          -0.13            -0.01            -0.01                  0.01\n",
       "1           6.58             0.49             0.67                 -0.28"
      ]
     },
     "execution_count": 109,
     "metadata": {},
     "output_type": "execute_result"
    }
   ],
   "source": [
    "grupo_3"
   ]
  },
  {
   "cell_type": "code",
   "execution_count": 110,
   "metadata": {},
   "outputs": [
    {
     "data": {
      "text/html": [
       "<div>\n",
       "<style scoped>\n",
       "    .dataframe tbody tr th:only-of-type {\n",
       "        vertical-align: middle;\n",
       "    }\n",
       "\n",
       "    .dataframe tbody tr th {\n",
       "        vertical-align: top;\n",
       "    }\n",
       "\n",
       "    .dataframe thead th {\n",
       "        text-align: right;\n",
       "    }\n",
       "</style>\n",
       "<table border=\"1\" class=\"dataframe\">\n",
       "  <thead>\n",
       "    <tr style=\"text-align: right;\">\n",
       "      <th></th>\n",
       "      <th>Empresa</th>\n",
       "      <th>Vendas</th>\n",
       "      <th>Rentabilidade</th>\n",
       "      <th>Liquidezgeral</th>\n",
       "      <th>Endividamentogeral</th>\n",
       "      <th>z_Vendas</th>\n",
       "      <th>z_Rentabilidade</th>\n",
       "      <th>z_Liquidezgeral</th>\n",
       "      <th>z_Endividamentogeral</th>\n",
       "      <th>grupo6</th>\n",
       "    </tr>\n",
       "  </thead>\n",
       "  <tbody>\n",
       "    <tr>\n",
       "      <th>0</th>\n",
       "      <td>PETROBRAS</td>\n",
       "      <td>47855158</td>\n",
       "      <td>21.938</td>\n",
       "      <td>1.0756</td>\n",
       "      <td>52.484</td>\n",
       "      <td>6.580699</td>\n",
       "      <td>0.489497</td>\n",
       "      <td>0.667019</td>\n",
       "      <td>-0.284352</td>\n",
       "      <td>1</td>\n",
       "    </tr>\n",
       "    <tr>\n",
       "      <th>1</th>\n",
       "      <td>PETROBRAS DISTRIBUIDORA</td>\n",
       "      <td>13531695</td>\n",
       "      <td>10.528</td>\n",
       "      <td>1.2175</td>\n",
       "      <td>54.189</td>\n",
       "      <td>1.431147</td>\n",
       "      <td>-0.306732</td>\n",
       "      <td>1.044635</td>\n",
       "      <td>-0.162533</td>\n",
       "      <td>0</td>\n",
       "    </tr>\n",
       "    <tr>\n",
       "      <th>2</th>\n",
       "      <td>TELEMAR</td>\n",
       "      <td>7696136</td>\n",
       "      <td>7.836</td>\n",
       "      <td>0.4218</td>\n",
       "      <td>55.977</td>\n",
       "      <td>0.555638</td>\n",
       "      <td>-0.494589</td>\n",
       "      <td>-1.072832</td>\n",
       "      <td>-0.034785</td>\n",
       "      <td>0</td>\n",
       "    </tr>\n",
       "  </tbody>\n",
       "</table>\n",
       "</div>"
      ],
      "text/plain": [
       "                   Empresa    Vendas  Rentabilidade  Liquidezgeral  \\\n",
       "0                PETROBRAS  47855158         21.938         1.0756   \n",
       "1  PETROBRAS DISTRIBUIDORA  13531695         10.528         1.2175   \n",
       "2                  TELEMAR   7696136          7.836         0.4218   \n",
       "\n",
       "   Endividamentogeral  z_Vendas  z_Rentabilidade  z_Liquidezgeral  \\\n",
       "0              52.484  6.580699         0.489497         0.667019   \n",
       "1              54.189  1.431147        -0.306732         1.044635   \n",
       "2              55.977  0.555638        -0.494589        -1.072832   \n",
       "\n",
       "   z_Endividamentogeral  grupo6  \n",
       "0             -0.284352       1  \n",
       "1             -0.162533       0  \n",
       "2             -0.034785       0  "
      ]
     },
     "execution_count": 110,
     "metadata": {},
     "output_type": "execute_result"
    }
   ],
   "source": [
    "df.head(3)"
   ]
  },
  {
   "cell_type": "code",
   "execution_count": 112,
   "metadata": {},
   "outputs": [
    {
     "data": {
      "image/png": "[encoded data removed]",
      "text/plain": [
       "<Figure size 1080x360 with 1 Axes>"
      ]
     },
     "metadata": {
      "needs_background": "light"
     },
     "output_type": "display_data"
    }
   ],
   "source": [
    "plt.figure(figsize=(15,5))\n",
    "plt.plot(z_variaveis, grupo_3.loc[0], color='g')\n",
    "plt.plot(z_variaveis, grupo_3.loc[1], color='orange')\n",
    "plt.xlabel('Variáveis')\n",
    "plt.ylabel('Média')\n",
    "plt.title('Centroide dos Grupos - 2 Grupos')\n",
    "plt.legend([\"0\",\"1\",\"2\"], loc=1)\n",
    "plt.show()"
   ]
  },
  {
   "cell_type": "code",
   "execution_count": 113,
   "metadata": {},
   "outputs": [],
   "source": [
    "# Execução do algoritmo kmeans para 4 grupos e a semente dos centros é o centróide obtido na análise hierárquica\n",
    "kmeans = KMeans(n_clusters=2, init=grupo_3, n_init=1).fit(df[z_variaveis])"
   ]
  },
  {
   "cell_type": "code",
   "execution_count": 114,
   "metadata": {},
   "outputs": [
    {
     "data": {
      "text/plain": [
       "KMeans(algorithm='auto', copy_x=True,\n",
       "       init=        z_Vendas  z_Rentabilidade  z_Liquidezgeral  z_Endividamentogeral\n",
       "grupo6                                                                  \n",
       "0          -0.13            -0.01            -0.01                  0.01\n",
       "1           6.58             0.49             0.67                 -0.28,\n",
       "       max_iter=300, n_clusters=2, n_init=1, n_jobs=None,\n",
       "       precompute_distances='auto', random_state=None, tol=0.0001, verbose=0)"
      ]
     },
     "execution_count": 114,
     "metadata": {},
     "output_type": "execute_result"
    }
   ],
   "source": [
    "kmeans"
   ]
  },
  {
   "cell_type": "code",
   "execution_count": 115,
   "metadata": {},
   "outputs": [],
   "source": [
    "y_kmeans = kmeans.predict(df[z_variaveis])"
   ]
  },
  {
   "cell_type": "code",
   "execution_count": 116,
   "metadata": {},
   "outputs": [
    {
     "data": {
      "text/plain": [
       "array([1, 0, 0, 0, 0, 0, 0, 0, 0, 0, 0, 0, 0, 0, 0, 0, 0, 0, 0, 0, 0, 0,\n",
       "       0, 0, 0, 0, 0, 0, 0, 0, 0, 0, 0, 0, 0, 0, 0, 0, 0, 0, 0, 0, 0, 0,\n",
       "       0, 0, 0, 0, 0, 0])"
      ]
     },
     "execution_count": 116,
     "metadata": {},
     "output_type": "execute_result"
    }
   ],
   "source": [
    "y_kmeans"
   ]
  },
  {
   "cell_type": "code",
   "execution_count": 117,
   "metadata": {},
   "outputs": [
    {
     "data": {
      "text/plain": [
       "array([1, 0, 0, 0, 0, 0, 0, 0, 0, 0, 0, 0, 0, 0, 0, 0, 0, 0, 0, 0, 0, 0,\n",
       "       0, 0, 0, 0, 0, 0, 0, 0, 0, 0, 0, 0, 0, 0, 0, 0, 0, 0, 0, 0, 0, 0,\n",
       "       0, 0, 0, 0, 0, 0])"
      ]
     },
     "execution_count": 117,
     "metadata": {},
     "output_type": "execute_result"
    }
   ],
   "source": [
    "kmeans.labels_"
   ]
  },
  {
   "cell_type": "code",
   "execution_count": 118,
   "metadata": {},
   "outputs": [],
   "source": [
    "df['kmeans'] = kmeans.labels_"
   ]
  },
  {
   "cell_type": "code",
   "execution_count": 119,
   "metadata": {},
   "outputs": [
    {
     "data": {
      "text/html": [
       "<div>\n",
       "<style scoped>\n",
       "    .dataframe tbody tr th:only-of-type {\n",
       "        vertical-align: middle;\n",
       "    }\n",
       "\n",
       "    .dataframe tbody tr th {\n",
       "        vertical-align: top;\n",
       "    }\n",
       "\n",
       "    .dataframe thead th {\n",
       "        text-align: right;\n",
       "    }\n",
       "</style>\n",
       "<table border=\"1\" class=\"dataframe\">\n",
       "  <thead>\n",
       "    <tr style=\"text-align: right;\">\n",
       "      <th></th>\n",
       "      <th>Empresa</th>\n",
       "      <th>Vendas</th>\n",
       "      <th>Rentabilidade</th>\n",
       "      <th>Liquidezgeral</th>\n",
       "      <th>Endividamentogeral</th>\n",
       "      <th>z_Vendas</th>\n",
       "      <th>z_Rentabilidade</th>\n",
       "      <th>z_Liquidezgeral</th>\n",
       "      <th>z_Endividamentogeral</th>\n",
       "      <th>grupo6</th>\n",
       "      <th>kmeans</th>\n",
       "    </tr>\n",
       "  </thead>\n",
       "  <tbody>\n",
       "    <tr>\n",
       "      <th>0</th>\n",
       "      <td>PETROBRAS</td>\n",
       "      <td>47855158</td>\n",
       "      <td>21.938</td>\n",
       "      <td>1.0756</td>\n",
       "      <td>52.484</td>\n",
       "      <td>6.580699</td>\n",
       "      <td>0.489497</td>\n",
       "      <td>0.667019</td>\n",
       "      <td>-0.284352</td>\n",
       "      <td>1</td>\n",
       "      <td>1</td>\n",
       "    </tr>\n",
       "    <tr>\n",
       "      <th>1</th>\n",
       "      <td>PETROBRAS DISTRIBUIDORA</td>\n",
       "      <td>13531695</td>\n",
       "      <td>10.528</td>\n",
       "      <td>1.2175</td>\n",
       "      <td>54.189</td>\n",
       "      <td>1.431147</td>\n",
       "      <td>-0.306732</td>\n",
       "      <td>1.044635</td>\n",
       "      <td>-0.162533</td>\n",
       "      <td>0</td>\n",
       "      <td>0</td>\n",
       "    </tr>\n",
       "    <tr>\n",
       "      <th>2</th>\n",
       "      <td>TELEMAR</td>\n",
       "      <td>7696136</td>\n",
       "      <td>7.836</td>\n",
       "      <td>0.4218</td>\n",
       "      <td>55.977</td>\n",
       "      <td>0.555638</td>\n",
       "      <td>-0.494589</td>\n",
       "      <td>-1.072832</td>\n",
       "      <td>-0.034785</td>\n",
       "      <td>0</td>\n",
       "      <td>0</td>\n",
       "    </tr>\n",
       "  </tbody>\n",
       "</table>\n",
       "</div>"
      ],
      "text/plain": [
       "                   Empresa    Vendas  Rentabilidade  Liquidezgeral  \\\n",
       "0                PETROBRAS  47855158         21.938         1.0756   \n",
       "1  PETROBRAS DISTRIBUIDORA  13531695         10.528         1.2175   \n",
       "2                  TELEMAR   7696136          7.836         0.4218   \n",
       "\n",
       "   Endividamentogeral  z_Vendas  z_Rentabilidade  z_Liquidezgeral  \\\n",
       "0              52.484  6.580699         0.489497         0.667019   \n",
       "1              54.189  1.431147        -0.306732         1.044635   \n",
       "2              55.977  0.555638        -0.494589        -1.072832   \n",
       "\n",
       "   z_Endividamentogeral  grupo6  kmeans  \n",
       "0             -0.284352       1       1  \n",
       "1             -0.162533       0       0  \n",
       "2             -0.034785       0       0  "
      ]
     },
     "execution_count": 119,
     "metadata": {},
     "output_type": "execute_result"
    }
   ],
   "source": [
    "df.head(3)"
   ]
  },
  {
   "cell_type": "code",
   "execution_count": 120,
   "metadata": {},
   "outputs": [
    {
     "name": "stdout",
     "output_type": "stream",
     "text": [
      "Cluster  0 :  49\n",
      "Cluster  1 :  1\n"
     ]
    }
   ],
   "source": [
    "lens = []\n",
    "for i in np.sort(list(df['kmeans'].unique())):\n",
    "    lens.append(len(df.loc[df['kmeans'] == i,:]))\n",
    "    print(\"Cluster \", i, \": \", lens[i])"
   ]
  },
  {
   "cell_type": "code",
   "execution_count": 122,
   "metadata": {},
   "outputs": [
    {
     "data": {
      "text/plain": [
       "kmeans\n",
       "0    49\n",
       "1     1\n",
       "Name: Empresa, dtype: int64"
      ]
     },
     "execution_count": 122,
     "metadata": {},
     "output_type": "execute_result"
    }
   ],
   "source": [
    "df.groupby('kmeans').count()['Empresa']"
   ]
  },
  {
   "cell_type": "code",
   "execution_count": 123,
   "metadata": {},
   "outputs": [],
   "source": [
    "k_means_centro = df.groupby('kmeans').mean()[z_variaveis].round(2)"
   ]
  },
  {
   "cell_type": "code",
   "execution_count": 124,
   "metadata": {},
   "outputs": [
    {
     "data": {
      "text/html": [
       "<div>\n",
       "<style scoped>\n",
       "    .dataframe tbody tr th:only-of-type {\n",
       "        vertical-align: middle;\n",
       "    }\n",
       "\n",
       "    .dataframe tbody tr th {\n",
       "        vertical-align: top;\n",
       "    }\n",
       "\n",
       "    .dataframe thead th {\n",
       "        text-align: right;\n",
       "    }\n",
       "</style>\n",
       "<table border=\"1\" class=\"dataframe\">\n",
       "  <thead>\n",
       "    <tr style=\"text-align: right;\">\n",
       "      <th></th>\n",
       "      <th>z_Vendas</th>\n",
       "      <th>z_Rentabilidade</th>\n",
       "      <th>z_Liquidezgeral</th>\n",
       "      <th>z_Endividamentogeral</th>\n",
       "    </tr>\n",
       "    <tr>\n",
       "      <th>kmeans</th>\n",
       "      <th></th>\n",
       "      <th></th>\n",
       "      <th></th>\n",
       "      <th></th>\n",
       "    </tr>\n",
       "  </thead>\n",
       "  <tbody>\n",
       "    <tr>\n",
       "      <th>0</th>\n",
       "      <td>-0.13</td>\n",
       "      <td>-0.01</td>\n",
       "      <td>-0.01</td>\n",
       "      <td>0.01</td>\n",
       "    </tr>\n",
       "    <tr>\n",
       "      <th>1</th>\n",
       "      <td>6.58</td>\n",
       "      <td>0.49</td>\n",
       "      <td>0.67</td>\n",
       "      <td>-0.28</td>\n",
       "    </tr>\n",
       "  </tbody>\n",
       "</table>\n",
       "</div>"
      ],
      "text/plain": [
       "        z_Vendas  z_Rentabilidade  z_Liquidezgeral  z_Endividamentogeral\n",
       "kmeans                                                                  \n",
       "0          -0.13            -0.01            -0.01                  0.01\n",
       "1           6.58             0.49             0.67                 -0.28"
      ]
     },
     "execution_count": 124,
     "metadata": {},
     "output_type": "execute_result"
    }
   ],
   "source": [
    "k_means_centro"
   ]
  },
  {
   "cell_type": "code",
   "execution_count": 125,
   "metadata": {},
   "outputs": [
    {
     "data": {
      "image/png": "[encoded data removed]",
      "text/plain": [
       "<Figure size 1080x360 with 1 Axes>"
      ]
     },
     "metadata": {
      "needs_background": "light"
     },
     "output_type": "display_data"
    }
   ],
   "source": [
    "plt.figure(figsize=(15,5))\n",
    "plt.plot(z_variaveis, k_means_centro.loc[0], color='g')\n",
    "plt.plot(z_variaveis, k_means_centro.loc[1], color='orange')\n",
    "plt.xlabel('Variáveis')\n",
    "plt.ylabel('Média')\n",
    "plt.title('Centroide dos Grupos - K-Means')\n",
    "plt.legend([\"0\",\"1\",], loc=1)\n",
    "plt.show()"
   ]
  },
  {
   "cell_type": "code",
   "execution_count": 126,
   "metadata": {},
   "outputs": [],
   "source": [
    "clusters_labels = pd.DataFrame(kmeans.labels_)\n",
    "clusters_labels = clusters_labels.drop_duplicates().sort_values(0)"
   ]
  },
  {
   "cell_type": "code",
   "execution_count": 128,
   "metadata": {},
   "outputs": [
    {
     "data": {
      "image/png": "[encoded data removed]",
      "text/plain": [
       "<Figure size 1080x2160 with 14 Axes>"
      ]
     },
     "metadata": {
      "needs_background": "light"
     },
     "output_type": "display_data"
    }
   ],
   "source": [
    "boxplot = df.boxplot(column=variaveis, by='kmeans', layout=(7,2), figsize=[15,30], showfliers=True)"
   ]
  }
 ],
 "metadata": {
  "kernelspec": {
   "display_name": "Python 3 (ipykernel)",
   "language": "python",
   "name": "python3"
  },
  "language_info": {
   "codemirror_mode": {
    "name": "ipython",
    "version": 3
   },
   "file_extension": ".py",
   "mimetype": "text/x-python",
   "name": "python",
   "nbconvert_exporter": "python",
   "pygments_lexer": "ipython3",
   "version": "3.7.3"
  }
 },
 "nbformat": 4,
 "nbformat_minor": 4
}
