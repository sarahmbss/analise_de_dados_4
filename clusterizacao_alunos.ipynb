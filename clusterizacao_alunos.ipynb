{
 "cells": [
  {
   "cell_type": "code",
   "execution_count": 72,
   "metadata": {},
   "outputs": [],
   "source": [
    "import pandas as pd\n",
    "import matplotlib.pyplot as plt\n",
    "from statsmodels.graphics.gofplots import qqplot\n",
    "import numpy as np\n",
    "import scipy as sp\n",
    "from scipy import stats as st\n",
    "import researchpy as rs\n",
    "from scipy.spatial import distance_matrix\n",
    "from scipy.spatial import distance\n",
    "from scipy.cluster.hierarchy import dendrogram, linkage\n",
    "\n",
    "from sklearn import preprocessing\n",
    "from sklearn.preprocessing import StandardScaler\n",
    "from sklearn.preprocessing import MinMaxScaler\n",
    "\n",
    "from sklearn.cluster import AgglomerativeClustering\n",
    "from sklearn.cluster import KMeans\n",
    "\n",
    "import statsmodels.api as sm\n",
    "from statsmodels.formula.api import ols\n",
    "import statsmodels as stm"
   ]
  },
  {
   "cell_type": "code",
   "execution_count": 73,
   "metadata": {},
   "outputs": [],
   "source": [
    "df=pd.read_excel(\"500MM2.xlsx\")"
   ]
  },
  {
   "cell_type": "code",
   "execution_count": 74,
   "metadata": {},
   "outputs": [
    {
     "data": {
      "text/html": [
       "<div>\n",
       "<style scoped>\n",
       "    .dataframe tbody tr th:only-of-type {\n",
       "        vertical-align: middle;\n",
       "    }\n",
       "\n",
       "    .dataframe tbody tr th {\n",
       "        vertical-align: top;\n",
       "    }\n",
       "\n",
       "    .dataframe thead th {\n",
       "        text-align: right;\n",
       "    }\n",
       "</style>\n",
       "<table border=\"1\" class=\"dataframe\">\n",
       "  <thead>\n",
       "    <tr style=\"text-align: right;\">\n",
       "      <th></th>\n",
       "      <th>Empresa</th>\n",
       "      <th>Vendas</th>\n",
       "      <th>Rentabilidade</th>\n",
       "      <th>Liquidezgeral</th>\n",
       "      <th>Endividamentogeral</th>\n",
       "    </tr>\n",
       "  </thead>\n",
       "  <tbody>\n",
       "    <tr>\n",
       "      <th>0</th>\n",
       "      <td>TELEMAR</td>\n",
       "      <td>7696136</td>\n",
       "      <td>7.836</td>\n",
       "      <td>0.4218</td>\n",
       "      <td>55.977</td>\n",
       "    </tr>\n",
       "    <tr>\n",
       "      <th>1</th>\n",
       "      <td>TELEFONICA</td>\n",
       "      <td>7256514</td>\n",
       "      <td>14.137</td>\n",
       "      <td>0.6093</td>\n",
       "      <td>38.128</td>\n",
       "    </tr>\n",
       "    <tr>\n",
       "      <th>2</th>\n",
       "      <td>CBB/AMBEV</td>\n",
       "      <td>7055807</td>\n",
       "      <td>10.649</td>\n",
       "      <td>0.6162</td>\n",
       "      <td>66.055</td>\n",
       "    </tr>\n",
       "  </tbody>\n",
       "</table>\n",
       "</div>"
      ],
      "text/plain": [
       "      Empresa   Vendas  Rentabilidade  Liquidezgeral  Endividamentogeral\n",
       "0     TELEMAR  7696136          7.836         0.4218              55.977\n",
       "1  TELEFONICA  7256514         14.137         0.6093              38.128\n",
       "2   CBB/AMBEV  7055807         10.649         0.6162              66.055"
      ]
     },
     "execution_count": 74,
     "metadata": {},
     "output_type": "execute_result"
    }
   ],
   "source": [
    "df.head(3)"
   ]
  },
  {
   "cell_type": "code",
   "execution_count": 75,
   "metadata": {},
   "outputs": [],
   "source": [
    "variaveis = [\"Vendas\", \"Rentabilidade\", \"Liquidezgeral\", \"Endividamentogeral\"]"
   ]
  },
  {
   "cell_type": "code",
   "execution_count": 76,
   "metadata": {},
   "outputs": [],
   "source": [
    "z_variaveis = []\n",
    "for var in variaveis:\n",
    "    z_variaveis.append(\"z_\" + var)"
   ]
  },
  {
   "cell_type": "code",
   "execution_count": 77,
   "metadata": {},
   "outputs": [
    {
     "data": {
      "text/plain": [
       "['z_Vendas', 'z_Rentabilidade', 'z_Liquidezgeral', 'z_Endividamentogeral']"
      ]
     },
     "execution_count": 77,
     "metadata": {},
     "output_type": "execute_result"
    }
   ],
   "source": [
    "z_variaveis"
   ]
  },
  {
   "cell_type": "code",
   "execution_count": 78,
   "metadata": {},
   "outputs": [],
   "source": [
    "X = df[variaveis]\n",
    "X_std = StandardScaler().fit_transform(X)"
   ]
  },
  {
   "cell_type": "code",
   "execution_count": 79,
   "metadata": {},
   "outputs": [
    {
     "data": {
      "text/plain": [
       "array([[ 2.75198109e+00, -4.82481505e-01, -1.03284841e+00,\n",
       "        -4.32524286e-02],\n",
       "       [ 2.50077237e+00, -5.02119208e-02, -5.35965507e-01,\n",
       "        -1.29415051e+00],\n",
       "       [ 2.38608441e+00, -2.89500337e-01, -5.17680216e-01,\n",
       "         6.63036487e-01],\n",
       "       [ 2.01470038e+00,  1.21708025e-01,  1.09752048e+00,\n",
       "        -3.74110731e-01],\n",
       "       [ 1.52177878e+00,  1.79266219e-01, -1.21914638e+00,\n",
       "        -1.71345261e+00],\n",
       "       [ 1.44195486e+00,  2.75105071e-01,  2.26716628e-01,\n",
       "         1.05535692e+00],\n",
       "       [ 1.26580613e+00,  4.18623238e-01, -7.51231745e-02,\n",
       "         2.10021319e+00],\n",
       "       [ 1.18346281e+00, -6.37456428e-01, -5.22450292e-01,\n",
       "         7.35746821e-02],\n",
       "       [ 8.46608542e-01, -5.90600353e-01, -2.01530186e-01,\n",
       "        -2.12290816e-01],\n",
       "       [ 7.23201288e-01, -3.70388808e+00,  4.34214930e-01,\n",
       "         8.20301056e-01],\n",
       "       [ 6.36287189e-01,  7.40304254e-01, -1.06014385e+00,\n",
       "         9.94805858e-01],\n",
       "       [ 6.07638485e-01, -1.00635369e-01, -6.18381819e-01,\n",
       "         1.65441999e+00],\n",
       "       [ 4.57667638e-01,  1.78237169e-01,  1.04398963e+00,\n",
       "         6.77333266e-01],\n",
       "       [ 4.35511405e-01,  1.42220421e-01, -1.23088938e-01,\n",
       "        -1.26369977e-01],\n",
       "       [ 3.35306082e-01,  1.44636973e+00,  1.35025169e-01,\n",
       "        -7.42182708e-01],\n",
       "       [-1.60876109e-03,  7.35502021e-01,  3.91549251e-01,\n",
       "        -4.36203604e-01],\n",
       "       [-4.09195880e-02,  1.99572805e-01, -3.16807020e-01,\n",
       "        -7.68043058e-01],\n",
       "       [-6.18838385e-02,  7.14046329e-03,  5.02321014e-01,\n",
       "        -1.53491808e-01],\n",
       "       [-9.71101565e-02,  9.47297652e-03,  4.44020086e-01,\n",
       "         5.18456805e-01],\n",
       "       [-1.16667000e-01,  3.65026886e-02, -1.08346422e+00,\n",
       "         7.51690533e-01],\n",
       "       [-1.65706249e-01,  2.26583651e+00, -9.12801504e-01,\n",
       "         8.04672714e-01],\n",
       "       [-2.04012520e-01,  5.29966443e-01,  3.14168020e-01,\n",
       "         5.16634666e-01],\n",
       "       [-2.68954955e-01,  4.01197992e-01, -2.53206008e-01,\n",
       "         1.42448013e+00],\n",
       "       [-3.21460437e-01,  1.43127700e+00, -1.11155467e+00,\n",
       "         2.53577437e+00],\n",
       "       [-3.50447993e-01, -3.91650695e-01,  1.51985439e-01,\n",
       "        -4.41810184e-01],\n",
       "       [-4.04368882e-01,  5.31732979e-02, -8.90806154e-01,\n",
       "        -2.15686301e+00],\n",
       "       [-4.34946700e-01,  7.50869167e-01,  1.64475419e+00,\n",
       "        -1.95961651e-01],\n",
       "       [-4.55485242e-01, -2.52180125e-01, -2.22465519e-01,\n",
       "         1.01758259e+00],\n",
       "       [-5.18048285e-01,  3.85007606e-01, -5.39228372e-02,\n",
       "         2.62306181e-01],\n",
       "       [-5.26234445e-01, -6.12965039e-01, -4.93034824e-01,\n",
       "        -1.78612790e+00],\n",
       "       [-5.40250231e-01,  1.64705162e-02,  7.02664202e-01,\n",
       "         4.43959373e-01],\n",
       "       [-5.97255644e-01, -8.53899935e-01, -1.64315312e+00,\n",
       "        -1.10892312e+00],\n",
       "       [-7.46967638e-01,  2.98155790e-01,  2.27864428e+00,\n",
       "        -4.74188184e-01],\n",
       "       [-7.64340515e-01, -2.77631961e-01, -1.48017553e+00,\n",
       "        -1.13772693e+00],\n",
       "       [-7.71951827e-01,  8.87870017e-01, -5.51865760e-01,\n",
       "        -1.45782760e-01],\n",
       "       [-7.81821390e-01,  1.38222561e+00,  4.62487567e-02,\n",
       "         1.47020880e-01],\n",
       "       [-8.13989469e-01,  2.57990255e+00, -5.33845474e-01,\n",
       "         1.05556717e+00],\n",
       "       [-8.69218910e-01,  5.24186613e-02,  7.19541658e-02,\n",
       "         5.00515749e-01],\n",
       "       [-8.76155946e-01, -1.55639804e+00,  8.33311280e-01,\n",
       "        -8.50810195e-01],\n",
       "       [-8.89968878e-01,  3.72110180e-01,  4.42165057e-01,\n",
       "         3.50960228e-01],\n",
       "       [-8.91624853e-01, -8.91563163e-01, -7.91429572e-01,\n",
       "         3.30075717e-01],\n",
       "       [-8.99192165e-01, -5.89365493e-01,  3.15501322e+00,\n",
       "        -6.85486167e-01],\n",
       "       [-9.06584624e-01,  8.04088200e-02,  3.21323134e-01,\n",
       "        -4.35713029e-01],\n",
       "       [-9.24732917e-01, -1.40684278e+00, -1.57451703e+00,\n",
       "        -4.01512891e-01],\n",
       "       [-9.41013239e-01, -1.11452399e+00,  7.36849746e-01,\n",
       "         1.64611525e-01],\n",
       "       [-9.69440804e-01, -2.55473085e-01,  2.59664934e+00,\n",
       "        -1.95979172e+00],\n",
       "       [-9.71921338e-01, -1.85454811e+00,  2.45796932e-01,\n",
       "        -1.27074304e+00],\n",
       "       [-9.84476003e-01, -6.50988435e-02,  2.52306098e-03,\n",
       "         5.16389379e-02]])"
      ]
     },
     "execution_count": 79,
     "metadata": {},
     "output_type": "execute_result"
    }
   ],
   "source": [
    "X_std"
   ]
  },
  {
   "cell_type": "code",
   "execution_count": 80,
   "metadata": {},
   "outputs": [],
   "source": [
    "df = pd.concat([df, pd.DataFrame(X_std, columns=z_variaveis)], axis=1)"
   ]
  },
  {
   "cell_type": "code",
   "execution_count": 81,
   "metadata": {},
   "outputs": [
    {
     "data": {
      "text/plain": [
       "array([[0.00000000e+00, 1.93267503e+11, 4.10021228e+11, ...,\n",
       "        4.24138025e+13, 4.24703636e+13, 4.27572132e+13],\n",
       "       [1.93267503e+11, 0.00000000e+00, 4.02833006e+10, ...,\n",
       "        3.68809160e+13, 3.69336604e+13, 3.72011921e+13],\n",
       "       [4.10021228e+11, 4.02833006e+10, 0.00000000e+00, ...,\n",
       "        3.44834258e+13, 3.45344276e+13, 3.47931398e+13],\n",
       "       ...,\n",
       "       [4.24138025e+13, 3.68809160e+13, 3.44834258e+13, ...,\n",
       "        0.00000000e+00, 1.88449218e+07, 6.92322176e+08],\n",
       "       [4.24703636e+13, 3.69336604e+13, 3.45344276e+13, ...,\n",
       "        1.88449218e+07, 0.00000000e+00, 4.82725877e+08],\n",
       "       [4.27572132e+13, 3.72011921e+13, 3.47931398e+13, ...,\n",
       "        6.92322176e+08, 4.82725877e+08, 0.00000000e+00]])"
      ]
     },
     "execution_count": 81,
     "metadata": {},
     "output_type": "execute_result"
    }
   ],
   "source": [
    "distance.cdist(df[variaveis], \n",
    "               df[variaveis], 'sqeuclidean')"
   ]
  },
  {
   "cell_type": "code",
   "execution_count": 82,
   "metadata": {},
   "outputs": [
    {
     "data": {
      "text/plain": [
       "(-3, 3)"
      ]
     },
     "execution_count": 82,
     "metadata": {},
     "output_type": "execute_result"
    },
    {
     "data": {
      "image/png": "[encoded data removed]",
      "text/plain": [
       "<Figure size 1008x432 with 1 Axes>"
      ]
     },
     "metadata": {
      "needs_background": "light"
     },
     "output_type": "display_data"
    }
   ],
   "source": [
    "df[z_variaveis].boxplot(rot=90,figsize=[14,6])\n",
    "plt.ylim(-3,3)"
   ]
  },
  {
   "cell_type": "code",
   "execution_count": 83,
   "metadata": {},
   "outputs": [],
   "source": [
    "Z = linkage(df[z_variaveis], method='single', metric='sqeuclidean')"
   ]
  },
  {
   "cell_type": "code",
   "execution_count": 84,
   "metadata": {},
   "outputs": [
    {
     "name": "stdout",
     "output_type": "stream",
     "text": [
      "Planejamento da Aglomeração\n",
      "\n",
      "[[37.         47.          0.23340563  2.        ]\n",
      " [39.         48.          0.26205619  3.        ]\n",
      " [18.         30.          0.26886874  2.        ]\n",
      " [21.         50.          0.29920644  3.        ]\n",
      " [ 7.          8.          0.30037509  2.        ]\n",
      " [28.         49.          0.30652503  4.        ]\n",
      " [51.         53.          0.31980538  7.        ]\n",
      " [42.         54.          0.36638497  8.        ]\n",
      " [31.         33.          0.38739349  2.        ]\n",
      " [17.         24.          0.44816616  2.        ]\n",
      " [55.         57.          0.45616027 10.        ]\n",
      " [27.         58.          0.61799704 11.        ]\n",
      " [38.         46.          0.61958118  2.        ]\n",
      " [15.         59.          0.62633999 12.        ]\n",
      " [22.         61.          0.6282071  13.        ]\n",
      " [13.         62.          0.65752182 14.        ]\n",
      " [16.         63.          0.67954683 15.        ]\n",
      " [34.         35.          0.68795981  2.        ]\n",
      " [52.         64.          0.71956256 17.        ]\n",
      " [12.         66.          0.72146494 18.        ]\n",
      " [20.         36.          0.72546431  2.        ]\n",
      " [65.         67.          0.73182135 20.        ]\n",
      " [25.         29.          0.75425805  2.        ]\n",
      " [14.         69.          0.77827233 21.        ]\n",
      " [26.         32.          0.78153311  2.        ]\n",
      " [43.         56.          0.9181273   3.        ]\n",
      " [ 0.          2.          0.93536442  2.        ]\n",
      " [19.         71.          1.01015292 22.        ]\n",
      " [10.         75.          1.12192556 23.        ]\n",
      " [ 6.         11.          1.19667567  2.        ]\n",
      " [76.         77.          1.20647849 25.        ]\n",
      " [ 5.         78.          1.23445772 26.        ]\n",
      " [44.         60.          1.23984524  3.        ]\n",
      " [40.         79.          1.39541422 27.        ]\n",
      " [73.         81.          1.41505709 30.        ]\n",
      " [80.         82.          1.51896343 33.        ]\n",
      " [70.         83.          1.56401338 35.        ]\n",
      " [41.         72.          1.6235357   3.        ]\n",
      " [ 1.          4.          1.65363901  2.        ]\n",
      " [84.         85.          1.81625674 38.        ]\n",
      " [74.         87.          1.91486011 40.        ]\n",
      " [45.         88.          2.05204388 41.        ]\n",
      " [86.         89.          2.06160145 43.        ]\n",
      " [68.         90.          2.51264941 45.        ]\n",
      " [23.         91.          3.03555688 46.        ]\n",
      " [ 3.         92.          3.15324521 47.        ]\n",
      " [ 9.         93.          9.99593301 48.        ]]\n"
     ]
    }
   ],
   "source": [
    "print ('Planejamento da Aglomeração\\n')\n",
    "print(Z)"
   ]
  },
  {
   "cell_type": "code",
   "execution_count": 85,
   "metadata": {},
   "outputs": [
    {
     "data": {
      "image/png": "[encoded data removed]",
      "text/plain": [
       "<Figure size 1800x720 with 1 Axes>"
      ]
     },
     "metadata": {
      "needs_background": "light"
     },
     "output_type": "display_data"
    }
   ],
   "source": [
    "fig = plt.figure(figsize=(25, 10))\n",
    "dn = dendrogram(Z)\n",
    "plt.title(\"Dendrograma\") \n",
    "plt.show()"
   ]
  },
  {
   "cell_type": "code",
   "execution_count": 86,
   "metadata": {},
   "outputs": [],
   "source": [
    "parada = pd.DataFrame(Z, columns=[\"c1\", \"c2\", \"dist\", \"n\"])"
   ]
  },
  {
   "cell_type": "code",
   "execution_count": 87,
   "metadata": {},
   "outputs": [
    {
     "data": {
      "text/html": [
       "<div>\n",
       "<style scoped>\n",
       "    .dataframe tbody tr th:only-of-type {\n",
       "        vertical-align: middle;\n",
       "    }\n",
       "\n",
       "    .dataframe tbody tr th {\n",
       "        vertical-align: top;\n",
       "    }\n",
       "\n",
       "    .dataframe thead th {\n",
       "        text-align: right;\n",
       "    }\n",
       "</style>\n",
       "<table border=\"1\" class=\"dataframe\">\n",
       "  <thead>\n",
       "    <tr style=\"text-align: right;\">\n",
       "      <th></th>\n",
       "      <th>c1</th>\n",
       "      <th>c2</th>\n",
       "      <th>dist</th>\n",
       "      <th>n</th>\n",
       "    </tr>\n",
       "  </thead>\n",
       "  <tbody>\n",
       "    <tr>\n",
       "      <th>0</th>\n",
       "      <td>37.0</td>\n",
       "      <td>47.0</td>\n",
       "      <td>0.233406</td>\n",
       "      <td>2.0</td>\n",
       "    </tr>\n",
       "    <tr>\n",
       "      <th>1</th>\n",
       "      <td>39.0</td>\n",
       "      <td>48.0</td>\n",
       "      <td>0.262056</td>\n",
       "      <td>3.0</td>\n",
       "    </tr>\n",
       "    <tr>\n",
       "      <th>2</th>\n",
       "      <td>18.0</td>\n",
       "      <td>30.0</td>\n",
       "      <td>0.268869</td>\n",
       "      <td>2.0</td>\n",
       "    </tr>\n",
       "    <tr>\n",
       "      <th>3</th>\n",
       "      <td>21.0</td>\n",
       "      <td>50.0</td>\n",
       "      <td>0.299206</td>\n",
       "      <td>3.0</td>\n",
       "    </tr>\n",
       "    <tr>\n",
       "      <th>4</th>\n",
       "      <td>7.0</td>\n",
       "      <td>8.0</td>\n",
       "      <td>0.300375</td>\n",
       "      <td>2.0</td>\n",
       "    </tr>\n",
       "  </tbody>\n",
       "</table>\n",
       "</div>"
      ],
      "text/plain": [
       "     c1    c2      dist    n\n",
       "0  37.0  47.0  0.233406  2.0\n",
       "1  39.0  48.0  0.262056  3.0\n",
       "2  18.0  30.0  0.268869  2.0\n",
       "3  21.0  50.0  0.299206  3.0\n",
       "4   7.0   8.0  0.300375  2.0"
      ]
     },
     "execution_count": 87,
     "metadata": {},
     "output_type": "execute_result"
    }
   ],
   "source": [
    "# As primeiras 5 linhas do Daframe Criado\n",
    "parada.head()"
   ]
  },
  {
   "cell_type": "code",
   "execution_count": 88,
   "metadata": {},
   "outputs": [],
   "source": [
    "parada['heterogeneidade'] = ((parada['dist'].shift(-1) - parada['dist']) / parada['dist']) * 100"
   ]
  },
  {
   "cell_type": "code",
   "execution_count": 90,
   "metadata": {},
   "outputs": [
    {
     "data": {
      "text/html": [
       "<div>\n",
       "<style scoped>\n",
       "    .dataframe tbody tr th:only-of-type {\n",
       "        vertical-align: middle;\n",
       "    }\n",
       "\n",
       "    .dataframe tbody tr th {\n",
       "        vertical-align: top;\n",
       "    }\n",
       "\n",
       "    .dataframe thead th {\n",
       "        text-align: right;\n",
       "    }\n",
       "</style>\n",
       "<table border=\"1\" class=\"dataframe\">\n",
       "  <thead>\n",
       "    <tr style=\"text-align: right;\">\n",
       "      <th></th>\n",
       "      <th>c1</th>\n",
       "      <th>c2</th>\n",
       "      <th>dist</th>\n",
       "      <th>n</th>\n",
       "      <th>heterogeneidade</th>\n",
       "    </tr>\n",
       "  </thead>\n",
       "  <tbody>\n",
       "    <tr>\n",
       "      <th>37</th>\n",
       "      <td>41.0</td>\n",
       "      <td>72.0</td>\n",
       "      <td>1.623536</td>\n",
       "      <td>3.0</td>\n",
       "      <td>1.854182</td>\n",
       "    </tr>\n",
       "    <tr>\n",
       "      <th>38</th>\n",
       "      <td>1.0</td>\n",
       "      <td>4.0</td>\n",
       "      <td>1.653639</td>\n",
       "      <td>2.0</td>\n",
       "      <td>9.833931</td>\n",
       "    </tr>\n",
       "    <tr>\n",
       "      <th>39</th>\n",
       "      <td>84.0</td>\n",
       "      <td>85.0</td>\n",
       "      <td>1.816257</td>\n",
       "      <td>38.0</td>\n",
       "      <td>5.428933</td>\n",
       "    </tr>\n",
       "    <tr>\n",
       "      <th>40</th>\n",
       "      <td>74.0</td>\n",
       "      <td>87.0</td>\n",
       "      <td>1.914860</td>\n",
       "      <td>40.0</td>\n",
       "      <td>7.164167</td>\n",
       "    </tr>\n",
       "    <tr>\n",
       "      <th>41</th>\n",
       "      <td>45.0</td>\n",
       "      <td>88.0</td>\n",
       "      <td>2.052044</td>\n",
       "      <td>41.0</td>\n",
       "      <td>0.465758</td>\n",
       "    </tr>\n",
       "    <tr>\n",
       "      <th>42</th>\n",
       "      <td>86.0</td>\n",
       "      <td>89.0</td>\n",
       "      <td>2.061601</td>\n",
       "      <td>43.0</td>\n",
       "      <td>21.878524</td>\n",
       "    </tr>\n",
       "    <tr>\n",
       "      <th>43</th>\n",
       "      <td>68.0</td>\n",
       "      <td>90.0</td>\n",
       "      <td>2.512649</td>\n",
       "      <td>45.0</td>\n",
       "      <td>20.811000</td>\n",
       "    </tr>\n",
       "    <tr>\n",
       "      <th>44</th>\n",
       "      <td>23.0</td>\n",
       "      <td>91.0</td>\n",
       "      <td>3.035557</td>\n",
       "      <td>46.0</td>\n",
       "      <td>3.876993</td>\n",
       "    </tr>\n",
       "    <tr>\n",
       "      <th>45</th>\n",
       "      <td>3.0</td>\n",
       "      <td>92.0</td>\n",
       "      <td>3.153245</td>\n",
       "      <td>47.0</td>\n",
       "      <td>217.004621</td>\n",
       "    </tr>\n",
       "    <tr>\n",
       "      <th>46</th>\n",
       "      <td>9.0</td>\n",
       "      <td>93.0</td>\n",
       "      <td>9.995933</td>\n",
       "      <td>48.0</td>\n",
       "      <td>NaN</td>\n",
       "    </tr>\n",
       "  </tbody>\n",
       "</table>\n",
       "</div>"
      ],
      "text/plain": [
       "      c1    c2      dist     n  heterogeneidade\n",
       "37  41.0  72.0  1.623536   3.0         1.854182\n",
       "38   1.0   4.0  1.653639   2.0         9.833931\n",
       "39  84.0  85.0  1.816257  38.0         5.428933\n",
       "40  74.0  87.0  1.914860  40.0         7.164167\n",
       "41  45.0  88.0  2.052044  41.0         0.465758\n",
       "42  86.0  89.0  2.061601  43.0        21.878524\n",
       "43  68.0  90.0  2.512649  45.0        20.811000\n",
       "44  23.0  91.0  3.035557  46.0         3.876993\n",
       "45   3.0  92.0  3.153245  47.0       217.004621\n",
       "46   9.0  93.0  9.995933  48.0              NaN"
      ]
     },
     "execution_count": 90,
     "metadata": {},
     "output_type": "execute_result"
    }
   ],
   "source": [
    "parada.tail(10)"
   ]
  },
  {
   "cell_type": "code",
   "execution_count": 91,
   "metadata": {},
   "outputs": [],
   "source": [
    "cluster = AgglomerativeClustering(n_clusters=2, affinity='sqeuclidean', linkage='single')  "
   ]
  },
  {
   "cell_type": "code",
   "execution_count": 92,
   "metadata": {},
   "outputs": [
    {
     "data": {
      "text/plain": [
       "array([0, 0, 0, 0, 0, 0, 0, 0, 0, 1, 0, 0, 0, 0, 0, 0, 0, 0, 0, 0, 0, 0,\n",
       "       0, 0, 0, 0, 0, 0, 0, 0, 0, 0, 0, 0, 0, 0, 0, 0, 0, 0, 0, 0, 0, 0,\n",
       "       0, 0, 0, 0], dtype=int64)"
      ]
     },
     "execution_count": 92,
     "metadata": {},
     "output_type": "execute_result"
    }
   ],
   "source": [
    "cluster.fit_predict(df[z_variaveis])"
   ]
  },
  {
   "cell_type": "code",
   "execution_count": 93,
   "metadata": {},
   "outputs": [
    {
     "data": {
      "text/plain": [
       "AgglomerativeClustering(affinity='sqeuclidean', compute_full_tree='auto',\n",
       "                        connectivity=None, distance_threshold=None,\n",
       "                        linkage='single', memory=None, n_clusters=2,\n",
       "                        pooling_func='deprecated')"
      ]
     },
     "execution_count": 93,
     "metadata": {},
     "output_type": "execute_result"
    }
   ],
   "source": [
    "cluster.fit(df[z_variaveis])"
   ]
  },
  {
   "cell_type": "code",
   "execution_count": 94,
   "metadata": {},
   "outputs": [
    {
     "data": {
      "text/plain": [
       "{'affinity': 'sqeuclidean',\n",
       " 'compute_full_tree': 'auto',\n",
       " 'connectivity': None,\n",
       " 'distance_threshold': None,\n",
       " 'linkage': 'single',\n",
       " 'memory': None,\n",
       " 'n_clusters': 2,\n",
       " 'pooling_func': 'deprecated'}"
      ]
     },
     "execution_count": 94,
     "metadata": {},
     "output_type": "execute_result"
    }
   ],
   "source": [
    "cluster.get_params()"
   ]
  },
  {
   "cell_type": "code",
   "execution_count": 95,
   "metadata": {},
   "outputs": [
    {
     "data": {
      "text/plain": [
       "array([0, 0, 0, 0, 0, 0, 0, 0, 0, 1, 0, 0, 0, 0, 0, 0, 0, 0, 0, 0, 0, 0,\n",
       "       0, 0, 0, 0, 0, 0, 0, 0, 0, 0, 0, 0, 0, 0, 0, 0, 0, 0, 0, 0, 0, 0,\n",
       "       0, 0, 0, 0], dtype=int64)"
      ]
     },
     "execution_count": 95,
     "metadata": {},
     "output_type": "execute_result"
    }
   ],
   "source": [
    "cluster.labels_"
   ]
  },
  {
   "cell_type": "code",
   "execution_count": 96,
   "metadata": {},
   "outputs": [
    {
     "data": {
      "text/plain": [
       "48"
      ]
     },
     "execution_count": 96,
     "metadata": {},
     "output_type": "execute_result"
    }
   ],
   "source": [
    "cluster.n_leaves_"
   ]
  },
  {
   "cell_type": "code",
   "execution_count": 97,
   "metadata": {},
   "outputs": [
    {
     "data": {
      "text/plain": [
       "2"
      ]
     },
     "execution_count": 97,
     "metadata": {},
     "output_type": "execute_result"
    }
   ],
   "source": [
    "cluster.n_clusters"
   ]
  },
  {
   "cell_type": "code",
   "execution_count": 98,
   "metadata": {},
   "outputs": [],
   "source": [
    "df = pd.concat([df, pd.DataFrame(cluster.fit_predict(df[z_variaveis]), columns=['grupo9'])], axis=1)"
   ]
  },
  {
   "cell_type": "code",
   "execution_count": 99,
   "metadata": {},
   "outputs": [
    {
     "data": {
      "text/html": [
       "<div>\n",
       "<style scoped>\n",
       "    .dataframe tbody tr th:only-of-type {\n",
       "        vertical-align: middle;\n",
       "    }\n",
       "\n",
       "    .dataframe tbody tr th {\n",
       "        vertical-align: top;\n",
       "    }\n",
       "\n",
       "    .dataframe thead th {\n",
       "        text-align: right;\n",
       "    }\n",
       "</style>\n",
       "<table border=\"1\" class=\"dataframe\">\n",
       "  <thead>\n",
       "    <tr style=\"text-align: right;\">\n",
       "      <th></th>\n",
       "      <th>Empresa</th>\n",
       "      <th>Vendas</th>\n",
       "      <th>Rentabilidade</th>\n",
       "      <th>Liquidezgeral</th>\n",
       "      <th>Endividamentogeral</th>\n",
       "      <th>z_Vendas</th>\n",
       "      <th>z_Rentabilidade</th>\n",
       "      <th>z_Liquidezgeral</th>\n",
       "      <th>z_Endividamentogeral</th>\n",
       "      <th>grupo9</th>\n",
       "    </tr>\n",
       "  </thead>\n",
       "  <tbody>\n",
       "    <tr>\n",
       "      <th>0</th>\n",
       "      <td>TELEMAR</td>\n",
       "      <td>7696136</td>\n",
       "      <td>7.836</td>\n",
       "      <td>0.4218</td>\n",
       "      <td>55.977</td>\n",
       "      <td>2.751981</td>\n",
       "      <td>-0.482482</td>\n",
       "      <td>-1.032848</td>\n",
       "      <td>-0.043252</td>\n",
       "      <td>0</td>\n",
       "    </tr>\n",
       "    <tr>\n",
       "      <th>1</th>\n",
       "      <td>TELEFONICA</td>\n",
       "      <td>7256514</td>\n",
       "      <td>14.137</td>\n",
       "      <td>0.6093</td>\n",
       "      <td>38.128</td>\n",
       "      <td>2.500772</td>\n",
       "      <td>-0.050212</td>\n",
       "      <td>-0.535966</td>\n",
       "      <td>-1.294151</td>\n",
       "      <td>0</td>\n",
       "    </tr>\n",
       "    <tr>\n",
       "      <th>2</th>\n",
       "      <td>CBB/AMBEV</td>\n",
       "      <td>7055807</td>\n",
       "      <td>10.649</td>\n",
       "      <td>0.6162</td>\n",
       "      <td>66.055</td>\n",
       "      <td>2.386084</td>\n",
       "      <td>-0.289500</td>\n",
       "      <td>-0.517680</td>\n",
       "      <td>0.663036</td>\n",
       "      <td>0</td>\n",
       "    </tr>\n",
       "  </tbody>\n",
       "</table>\n",
       "</div>"
      ],
      "text/plain": [
       "      Empresa   Vendas  Rentabilidade  Liquidezgeral  Endividamentogeral  \\\n",
       "0     TELEMAR  7696136          7.836         0.4218              55.977   \n",
       "1  TELEFONICA  7256514         14.137         0.6093              38.128   \n",
       "2   CBB/AMBEV  7055807         10.649         0.6162              66.055   \n",
       "\n",
       "   z_Vendas  z_Rentabilidade  z_Liquidezgeral  z_Endividamentogeral  grupo9  \n",
       "0  2.751981        -0.482482        -1.032848             -0.043252       0  \n",
       "1  2.500772        -0.050212        -0.535966             -1.294151       0  \n",
       "2  2.386084        -0.289500        -0.517680              0.663036       0  "
      ]
     },
     "execution_count": 99,
     "metadata": {},
     "output_type": "execute_result"
    }
   ],
   "source": [
    "df.head(3)"
   ]
  },
  {
   "cell_type": "code",
   "execution_count": 100,
   "metadata": {},
   "outputs": [
    {
     "data": {
      "text/plain": [
       "grupo9\n",
       "0    47\n",
       "1     1\n",
       "Name: Empresa, dtype: int64"
      ]
     },
     "execution_count": 100,
     "metadata": {},
     "output_type": "execute_result"
    }
   ],
   "source": [
    "df.groupby('grupo9').count()['Empresa']"
   ]
  },
  {
   "cell_type": "code",
   "execution_count": 101,
   "metadata": {},
   "outputs": [],
   "source": [
    "grupo_3 = df.groupby('grupo9').mean()[z_variaveis].round(2)"
   ]
  },
  {
   "cell_type": "code",
   "execution_count": 102,
   "metadata": {},
   "outputs": [
    {
     "data": {
      "text/html": [
       "<div>\n",
       "<style scoped>\n",
       "    .dataframe tbody tr th:only-of-type {\n",
       "        vertical-align: middle;\n",
       "    }\n",
       "\n",
       "    .dataframe tbody tr th {\n",
       "        vertical-align: top;\n",
       "    }\n",
       "\n",
       "    .dataframe thead th {\n",
       "        text-align: right;\n",
       "    }\n",
       "</style>\n",
       "<table border=\"1\" class=\"dataframe\">\n",
       "  <thead>\n",
       "    <tr style=\"text-align: right;\">\n",
       "      <th></th>\n",
       "      <th>z_Vendas</th>\n",
       "      <th>z_Rentabilidade</th>\n",
       "      <th>z_Liquidezgeral</th>\n",
       "      <th>z_Endividamentogeral</th>\n",
       "    </tr>\n",
       "    <tr>\n",
       "      <th>grupo9</th>\n",
       "      <th></th>\n",
       "      <th></th>\n",
       "      <th></th>\n",
       "      <th></th>\n",
       "    </tr>\n",
       "  </thead>\n",
       "  <tbody>\n",
       "    <tr>\n",
       "      <th>0</th>\n",
       "      <td>-0.02</td>\n",
       "      <td>0.08</td>\n",
       "      <td>-0.01</td>\n",
       "      <td>-0.02</td>\n",
       "    </tr>\n",
       "    <tr>\n",
       "      <th>1</th>\n",
       "      <td>0.72</td>\n",
       "      <td>-3.70</td>\n",
       "      <td>0.43</td>\n",
       "      <td>0.82</td>\n",
       "    </tr>\n",
       "  </tbody>\n",
       "</table>\n",
       "</div>"
      ],
      "text/plain": [
       "        z_Vendas  z_Rentabilidade  z_Liquidezgeral  z_Endividamentogeral\n",
       "grupo9                                                                  \n",
       "0          -0.02             0.08            -0.01                 -0.02\n",
       "1           0.72            -3.70             0.43                  0.82"
      ]
     },
     "execution_count": 102,
     "metadata": {},
     "output_type": "execute_result"
    }
   ],
   "source": [
    "grupo_3"
   ]
  },
  {
   "cell_type": "code",
   "execution_count": 104,
   "metadata": {},
   "outputs": [
    {
     "data": {
      "image/png": "[encoded data removed]",
      "text/plain": [
       "<Figure size 1080x360 with 1 Axes>"
      ]
     },
     "metadata": {
      "needs_background": "light"
     },
     "output_type": "display_data"
    }
   ],
   "source": [
    "plt.figure(figsize=(15,5))\n",
    "plt.plot(z_variaveis, grupo_3.loc[0], color='g')\n",
    "plt.plot(z_variaveis, grupo_3.loc[1], color='orange')\n",
    "plt.xlabel('Variáveis')\n",
    "plt.ylabel('Média')\n",
    "plt.title('Centroide dos Grupos -2 Grupos')\n",
    "plt.legend([\"0\",\"1\",\"2\"], loc=1)\n",
    "plt.show()"
   ]
  },
  {
   "cell_type": "code",
   "execution_count": 108,
   "metadata": {},
   "outputs": [],
   "source": [
    "kmeans = KMeans(n_clusters=2, init=grupo_3, n_init=1).fit(df[z_variaveis])"
   ]
  },
  {
   "cell_type": "code",
   "execution_count": 109,
   "metadata": {},
   "outputs": [
    {
     "data": {
      "text/plain": [
       "KMeans(algorithm='auto', copy_x=True,\n",
       "       init=        z_Vendas  z_Rentabilidade  z_Liquidezgeral  z_Endividamentogeral\n",
       "grupo9                                                                  \n",
       "0          -0.02             0.08            -0.01                 -0.02\n",
       "1           0.72            -3.70             0.43                  0.82,\n",
       "       max_iter=300, n_clusters=2, n_init=1, n_jobs=None,\n",
       "       precompute_distances='auto', random_state=None, tol=0.0001, verbose=0)"
      ]
     },
     "execution_count": 109,
     "metadata": {},
     "output_type": "execute_result"
    }
   ],
   "source": [
    "kmeans"
   ]
  },
  {
   "cell_type": "code",
   "execution_count": 110,
   "metadata": {},
   "outputs": [],
   "source": [
    "# Agrupa cada um dos elementos da amostra em um dos 4 grupos possíveis.\n",
    "y_kmeans = kmeans.predict(df[z_variaveis])"
   ]
  },
  {
   "cell_type": "code",
   "execution_count": 111,
   "metadata": {},
   "outputs": [
    {
     "data": {
      "text/plain": [
       "array([0, 0, 0, 0, 0, 0, 0, 0, 0, 1, 0, 0, 0, 0, 0, 0, 0, 0, 0, 0, 0, 0,\n",
       "       0, 0, 0, 0, 0, 0, 0, 0, 0, 0, 0, 0, 0, 0, 0, 0, 0, 0, 0, 0, 0, 0,\n",
       "       0, 0, 0, 0])"
      ]
     },
     "execution_count": 111,
     "metadata": {},
     "output_type": "execute_result"
    }
   ],
   "source": [
    "kmeans.labels_"
   ]
  },
  {
   "cell_type": "code",
   "execution_count": 112,
   "metadata": {},
   "outputs": [],
   "source": [
    "df['kmeans'] = kmeans.labels_"
   ]
  },
  {
   "cell_type": "code",
   "execution_count": 113,
   "metadata": {},
   "outputs": [
    {
     "data": {
      "text/html": [
       "<div>\n",
       "<style scoped>\n",
       "    .dataframe tbody tr th:only-of-type {\n",
       "        vertical-align: middle;\n",
       "    }\n",
       "\n",
       "    .dataframe tbody tr th {\n",
       "        vertical-align: top;\n",
       "    }\n",
       "\n",
       "    .dataframe thead th {\n",
       "        text-align: right;\n",
       "    }\n",
       "</style>\n",
       "<table border=\"1\" class=\"dataframe\">\n",
       "  <thead>\n",
       "    <tr style=\"text-align: right;\">\n",
       "      <th></th>\n",
       "      <th>Empresa</th>\n",
       "      <th>Vendas</th>\n",
       "      <th>Rentabilidade</th>\n",
       "      <th>Liquidezgeral</th>\n",
       "      <th>Endividamentogeral</th>\n",
       "      <th>z_Vendas</th>\n",
       "      <th>z_Rentabilidade</th>\n",
       "      <th>z_Liquidezgeral</th>\n",
       "      <th>z_Endividamentogeral</th>\n",
       "      <th>grupo9</th>\n",
       "      <th>kmeans</th>\n",
       "    </tr>\n",
       "  </thead>\n",
       "  <tbody>\n",
       "    <tr>\n",
       "      <th>0</th>\n",
       "      <td>TELEMAR</td>\n",
       "      <td>7696136</td>\n",
       "      <td>7.836</td>\n",
       "      <td>0.4218</td>\n",
       "      <td>55.977</td>\n",
       "      <td>2.751981</td>\n",
       "      <td>-0.482482</td>\n",
       "      <td>-1.032848</td>\n",
       "      <td>-0.043252</td>\n",
       "      <td>0</td>\n",
       "      <td>0</td>\n",
       "    </tr>\n",
       "    <tr>\n",
       "      <th>1</th>\n",
       "      <td>TELEFONICA</td>\n",
       "      <td>7256514</td>\n",
       "      <td>14.137</td>\n",
       "      <td>0.6093</td>\n",
       "      <td>38.128</td>\n",
       "      <td>2.500772</td>\n",
       "      <td>-0.050212</td>\n",
       "      <td>-0.535966</td>\n",
       "      <td>-1.294151</td>\n",
       "      <td>0</td>\n",
       "      <td>0</td>\n",
       "    </tr>\n",
       "    <tr>\n",
       "      <th>2</th>\n",
       "      <td>CBB/AMBEV</td>\n",
       "      <td>7055807</td>\n",
       "      <td>10.649</td>\n",
       "      <td>0.6162</td>\n",
       "      <td>66.055</td>\n",
       "      <td>2.386084</td>\n",
       "      <td>-0.289500</td>\n",
       "      <td>-0.517680</td>\n",
       "      <td>0.663036</td>\n",
       "      <td>0</td>\n",
       "      <td>0</td>\n",
       "    </tr>\n",
       "  </tbody>\n",
       "</table>\n",
       "</div>"
      ],
      "text/plain": [
       "      Empresa   Vendas  Rentabilidade  Liquidezgeral  Endividamentogeral  \\\n",
       "0     TELEMAR  7696136          7.836         0.4218              55.977   \n",
       "1  TELEFONICA  7256514         14.137         0.6093              38.128   \n",
       "2   CBB/AMBEV  7055807         10.649         0.6162              66.055   \n",
       "\n",
       "   z_Vendas  z_Rentabilidade  z_Liquidezgeral  z_Endividamentogeral  grupo9  \\\n",
       "0  2.751981        -0.482482        -1.032848             -0.043252       0   \n",
       "1  2.500772        -0.050212        -0.535966             -1.294151       0   \n",
       "2  2.386084        -0.289500        -0.517680              0.663036       0   \n",
       "\n",
       "   kmeans  \n",
       "0       0  \n",
       "1       0  \n",
       "2       0  "
      ]
     },
     "execution_count": 113,
     "metadata": {},
     "output_type": "execute_result"
    }
   ],
   "source": [
    "df.head(3)"
   ]
  },
  {
   "cell_type": "code",
   "execution_count": 114,
   "metadata": {},
   "outputs": [
    {
     "name": "stdout",
     "output_type": "stream",
     "text": [
      "Cluster  0 :  47\n",
      "Cluster  1 :  1\n"
     ]
    }
   ],
   "source": [
    "lens = []\n",
    "for i in np.sort(list(df['kmeans'].unique())):\n",
    "    lens.append(len(df.loc[df['kmeans'] == i,:]))\n",
    "    print(\"Cluster \", i, \": \", lens[i])"
   ]
  },
  {
   "cell_type": "code",
   "execution_count": 116,
   "metadata": {},
   "outputs": [
    {
     "data": {
      "text/plain": [
       "kmeans\n",
       "0    47\n",
       "1     1\n",
       "Name: Empresa, dtype: int64"
      ]
     },
     "execution_count": 116,
     "metadata": {},
     "output_type": "execute_result"
    }
   ],
   "source": [
    "df.groupby('kmeans').count()['Empresa']"
   ]
  },
  {
   "cell_type": "code",
   "execution_count": 117,
   "metadata": {},
   "outputs": [],
   "source": [
    "# Gera o centroide final dos grupos.\n",
    "k_means_centro = df.groupby('kmeans').mean()[z_variaveis].round(2)"
   ]
  },
  {
   "cell_type": "code",
   "execution_count": 118,
   "metadata": {},
   "outputs": [
    {
     "data": {
      "image/png": "[encoded data removed]",
      "text/plain": [
       "<Figure size 1080x360 with 1 Axes>"
      ]
     },
     "metadata": {
      "needs_background": "light"
     },
     "output_type": "display_data"
    }
   ],
   "source": [
    "plt.figure(figsize=(15,5))\n",
    "plt.plot(z_variaveis, k_means_centro.loc[0], color='g')\n",
    "plt.plot(z_variaveis, k_means_centro.loc[1], color='orange')\n",
    "plt.ylabel('Média')\n",
    "plt.title('Centroide dos Grupos - K-Means')\n",
    "plt.legend([\"0\",\"1\"], loc=1)\n",
    "plt.show()"
   ]
  },
  {
   "cell_type": "code",
   "execution_count": 119,
   "metadata": {},
   "outputs": [
    {
     "data": {
      "image/png": "[encoded data removed]",
      "text/plain": [
       "<Figure size 1080x2160 with 14 Axes>"
      ]
     },
     "metadata": {
      "needs_background": "light"
     },
     "output_type": "display_data"
    }
   ],
   "source": [
    "boxplot = df.boxplot(column=variaveis, by='kmeans', layout=(7,2), figsize=[15,30], showfliers=True)"
   ]
  },
  {
   "cell_type": "code",
   "execution_count": null,
   "metadata": {},
   "outputs": [],
   "source": []
  }
 ],
 "metadata": {
  "kernelspec": {
   "display_name": "Python 3 (ipykernel)",
   "language": "python",
   "name": "python3"
  },
  "language_info": {
   "codemirror_mode": {
    "name": "ipython",
    "version": 3
   },
   "file_extension": ".py",
   "mimetype": "text/x-python",
   "name": "python",
   "nbconvert_exporter": "python",
   "pygments_lexer": "ipython3",
   "version": "3.7.3"
  }
 },
 "nbformat": 4,
 "nbformat_minor": 4
}
