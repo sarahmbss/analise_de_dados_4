{
 "cells": [
  {
   "cell_type": "code",
   "execution_count": 2,
   "metadata": {},
   "outputs": [],
   "source": [
    "import pandas as pd\n",
    "import matplotlib.pyplot as plt\n",
    "from statsmodels.graphics.gofplots import qqplot\n",
    "import numpy as np\n",
    "import scipy as sp\n",
    "from scipy import stats as st\n",
    "\n",
    "from sklearn import preprocessing\n",
    "from sklearn.preprocessing import StandardScaler\n",
    "from sklearn.preprocessing import MinMaxScaler\n",
    "\n",
    "from sklearn.linear_model import LogisticRegression\n",
    "from sklearn.model_selection import train_test_split\n",
    "\n",
    "import statsmodels.api as sm\n",
    "from statsmodels.formula.api import ols\n",
    "import statsmodels as stm\n",
    "\n",
    "pd.set_option('display.max_columns', None)\n",
    "#pd.set_option('display.max_rows', None)\n",
    "\n",
    "plt.rc(\"font\", size=14)\n",
    "\n",
    "import seaborn as sns\n",
    "sns.set(style=\"white\")\n",
    "sns.set(style=\"whitegrid\", color_codes=True)\n",
    "\n",
    "# import warnings filter\n",
    "from warnings import simplefilter\n",
    "# ignore all future warnings\n",
    "simplefilter(action='ignore', category=FutureWarning)\n",
    "\n",
    "\n",
    "# Recursive Feature Elimination (RFE)\n",
    "from sklearn.feature_selection import RFE\n",
    "from sklearn import metrics\n",
    "from sklearn.metrics import confusion_matrix\n",
    "from sklearn.metrics import classification_report\n",
    "from sklearn.metrics import roc_auc_score\n",
    "from sklearn.metrics import roc_curve"
   ]
  },
  {
   "cell_type": "code",
   "execution_count": 3,
   "metadata": {},
   "outputs": [],
   "source": [
    "df = pd.read_excel(\"Bankloan (1).xlsx\")"
   ]
  },
  {
   "cell_type": "code",
   "execution_count": 4,
   "metadata": {},
   "outputs": [],
   "source": [
    "df['default_num'] = np.where(df['default']=='Yes', 1, 0)"
   ]
  },
  {
   "cell_type": "code",
   "execution_count": 5,
   "metadata": {},
   "outputs": [
    {
     "data": {
      "text/plain": [
       "0    371\n",
       "1    129\n",
       "Name: default_num, dtype: int64"
      ]
     },
     "execution_count": 5,
     "metadata": {},
     "output_type": "execute_result"
    }
   ],
   "source": [
    "df['default_num'].value_counts()"
   ]
  },
  {
   "cell_type": "code",
   "execution_count": 6,
   "metadata": {},
   "outputs": [
    {
     "name": "stdout",
     "output_type": "stream",
     "text": [
      "Não pagam 74.2\n",
      "Pagam 25.8\n"
     ]
    }
   ],
   "source": [
    "count_usa = len(df[df['default_num']==0])\n",
    "count_f_usa = len(df[df['default_num']==1])\n",
    "pct_usa = count_usa/(count_usa+count_f_usa)\n",
    "print(\"Não pagam\", pct_usa*100)\n",
    "pct_f_usa = count_f_usa/(count_usa+count_f_usa)\n",
    "print(\"Pagam\", pct_f_usa*100)"
   ]
  },
  {
   "cell_type": "code",
   "execution_count": 8,
   "metadata": {},
   "outputs": [],
   "source": [
    "X = df.loc[:, ['t_emprego','divida','divida_cc']]\n",
    "y = df.loc[:, df.columns == 'default_num']\n",
    "\n",
    "X_train, X_test, y_train, y_test = train_test_split(X, y, test_size=0.4, random_state=0)"
   ]
  },
  {
   "cell_type": "code",
   "execution_count": 9,
   "metadata": {},
   "outputs": [
    {
     "name": "stderr",
     "output_type": "stream",
     "text": [
      "C:\\Users\\Sarah Braga\\Anaconda3\\lib\\site-packages\\sklearn\\utils\\validation.py:724: DataConversionWarning: A column-vector y was passed when a 1d array was expected. Please change the shape of y to (n_samples, ), for example using ravel().\n",
      "  y = column_or_1d(y, warn=True)\n"
     ]
    },
    {
     "data": {
      "text/plain": [
       "LogisticRegression(C=1.0, class_weight=None, dual=False, fit_intercept=True,\n",
       "                   intercept_scaling=1, l1_ratio=None, max_iter=100,\n",
       "                   multi_class='warn', n_jobs=None, penalty='l2',\n",
       "                   random_state=None, solver='warn', tol=0.0001, verbose=0,\n",
       "                   warm_start=False)"
      ]
     },
     "execution_count": 9,
     "metadata": {},
     "output_type": "execute_result"
    }
   ],
   "source": [
    "logreg = LogisticRegression()\n",
    "logreg.fit(X_train, y_train)"
   ]
  },
  {
   "cell_type": "code",
   "execution_count": 10,
   "metadata": {},
   "outputs": [
    {
     "data": {
      "text/plain": [
       "array([-1.85873073, -1.42633095, -2.19796913, -2.29132142, -1.07961157,\n",
       "       -3.52885952, -1.20258747, -1.0083199 , -1.09081034, -0.84109699,\n",
       "       -0.69814966,  0.40389985, -1.80021986,  0.16962624, -3.4812608 ,\n",
       "       -3.37318806, -4.77612953, -0.33744762, -0.23632194, -1.2186494 ,\n",
       "       -1.6651192 , -3.02480477, -0.67496594, -4.66108843, -2.90830283,\n",
       "        0.98002812, -0.03639142, -4.06574755, -1.72294763, -3.78799375,\n",
       "       -2.22691161, -2.36831258, -1.56751436, -0.32697489, -3.65620252,\n",
       "       -0.68341322, -1.81464011, -0.37473566, -0.58426446, -1.89755966,\n",
       "       -2.06984964, -1.22603953, -0.5293464 , -3.14108691, -0.63921655,\n",
       "        1.91321452, -0.95415103, -2.81119031, -2.58201877, -1.31313875,\n",
       "       -0.43604285, -1.02012922, -2.60899074, -0.55809302, -3.11048955,\n",
       "       -0.95862709, -2.68793109,  0.71826013, -0.11409649, -2.17216471,\n",
       "       -0.01799951,  2.04617337, -2.01511025, -0.46340761, -3.81280752,\n",
       "       -1.21610968,  1.51014199, -3.17898495, -4.5446294 , -0.58597669,\n",
       "       -2.30430702, -1.91648023, -1.01498907,  0.29591819, -2.14785329,\n",
       "       -1.00513953,  0.21883011, -2.78039376, -1.38741077,  0.32937281,\n",
       "       -2.60802047,  0.38747674, -2.23626744, -2.03519526, -2.00260617,\n",
       "       -3.36703101, -2.28150167, -3.31936638,  0.05294099, -2.50916965,\n",
       "        0.59615938, -3.99071524, -1.65680761, -0.17054613, -1.68652648,\n",
       "       -0.44272057, -2.01004065, -1.58612187,  0.13324968, -3.73288175,\n",
       "       -1.13475956, -0.4874979 , -0.48103773,  0.6191132 , -2.81289373,\n",
       "       -0.04973201, -0.74773034, -1.26804901, -0.45208863, -2.03613914,\n",
       "       -1.01689045, -1.09995473, -1.5372058 , -0.240115  , -1.38048226,\n",
       "       -0.76767436, -1.81394875, -3.15916541, -1.07905338, -0.9037872 ,\n",
       "       -1.42104726, -1.38242151, -0.55439474, -1.02512557, -0.40087653,\n",
       "       -2.30282804, -2.18153355, -1.10163889, -0.77681234, -0.96874279,\n",
       "       -4.39712821, -0.32946295,  1.15362287, -2.9574116 , -3.55821182,\n",
       "       -2.04035761, -2.94692412, -2.61567317, -0.87978445,  1.22442209,\n",
       "        0.51762152, -1.24325101, -0.50449629, -1.17848184, -1.13661198,\n",
       "       -3.85659019, -1.2002785 , -0.43644595, -2.29045977, -3.05917455,\n",
       "       -1.55817769, -1.688245  ,  0.12746907, -0.62851424, -1.41797225,\n",
       "       -2.43548231, -4.06259553, -3.29528772, -3.17865525, -0.44131355,\n",
       "       -2.28651692, -1.66941523, -4.18563494, -1.03041619, -0.222966  ,\n",
       "       -2.34153769, -0.73550069, -0.84013073, -1.11930111, -0.24554096,\n",
       "       -1.92868651, -3.23858702, -1.92158521,  0.55931722, -2.2705429 ,\n",
       "       -1.84698645, -1.07631446, -1.29697039, -1.26073585, -0.87797576,\n",
       "        0.86907843, -2.91530358, -5.1422919 , -4.25987005,  1.21013399,\n",
       "        0.25813648, -4.01947479, -3.08717736, -3.44361528,  0.23326316,\n",
       "       -2.94794578, -0.05623518, -1.41524155,  5.30304335, -2.33459843,\n",
       "       -2.3904999 , -1.76341327, -2.52433859, -2.68788135, -1.30077151,\n",
       "       -3.04280624,  0.93758823, -0.84851439, -2.81406971,  0.43387525,\n",
       "       -1.76239407, -0.32720898, -0.37247518, -1.51543042, -1.09361193,\n",
       "       -1.37738722,  0.34766899, -2.44079968,  0.89551322, -1.78405251,\n",
       "       -0.41943815, -0.02032125, -0.64905715, -0.75232802, -0.15285722,\n",
       "       -2.43163876, -3.84370581, -0.88173699, -0.16278811, -1.77784744,\n",
       "       -1.78321061, -1.92445677, -2.36808999, -2.1906629 , -2.02612649,\n",
       "       -2.51377984,  2.15065639,  0.42555715, -3.03177349, -1.65337172,\n",
       "        0.25848148, -2.99045036, -1.40894258, -1.41871609, -0.95496817,\n",
       "       -2.40769222, -2.34381804, -2.41265237, -2.51025006, -0.16827298,\n",
       "       -0.70051985, -0.17984116, -0.90565621, -2.90727187, -2.83967537,\n",
       "       -0.68977994,  0.33324309, -4.12197146, -2.42531505, -0.02254416,\n",
       "       -2.24124144, -0.16303535, -2.20248174,  3.33447211, -1.96940863,\n",
       "       -0.7946906 ,  1.36091155,  0.40777649, -2.74865982, -3.17001228,\n",
       "       -2.57545907, -0.62450035,  1.57507622, -1.43651742, -2.78791384,\n",
       "       -1.90711867, -3.58232618, -0.19222624,  0.98967512,  0.15914081,\n",
       "       -4.2960824 , -2.08612529, -1.64627847, -1.09258591, -5.29906521,\n",
       "       -1.16505736, -0.16186224, -2.25363016, -3.39014146, -2.75156065,\n",
       "        0.53005323,  0.25223629, -4.40678409, -2.15405243, -3.76477618,\n",
       "       -0.75922674,  1.41500687, -0.04487493, -1.5371779 , -1.07383414,\n",
       "       -0.26902652, -2.04841121, -3.57671254, -1.19772116, -0.96692994])"
      ]
     },
     "execution_count": 10,
     "metadata": {},
     "output_type": "execute_result"
    }
   ],
   "source": [
    "logreg.decision_function(X_train)"
   ]
  },
  {
   "cell_type": "code",
   "execution_count": 11,
   "metadata": {},
   "outputs": [
    {
     "data": {
      "text/plain": [
       "array([-1.27691889])"
      ]
     },
     "execution_count": 11,
     "metadata": {},
     "output_type": "execute_result"
    }
   ],
   "source": [
    "#Valor do intecepto: Beta 0\n",
    "\n",
    "logreg.intercept_"
   ]
  },
  {
   "cell_type": "code",
   "execution_count": 12,
   "metadata": {},
   "outputs": [
    {
     "data": {
      "text/plain": [
       "array([[-0.19923662,  0.07950298,  0.40526946]])"
      ]
     },
     "execution_count": 12,
     "metadata": {},
     "output_type": "execute_result"
    }
   ],
   "source": [
    "# Coeficientes - Betas\n",
    "logreg.coef_"
   ]
  },
  {
   "cell_type": "code",
   "execution_count": 13,
   "metadata": {},
   "outputs": [
    {
     "data": {
      "text/plain": [
       "array([[0.86514894, 0.13485106],\n",
       "       [0.80632899, 0.19367101],\n",
       "       [0.90006699, 0.09993301],\n",
       "       [0.90815573, 0.09184427],\n",
       "       [0.74642047, 0.25357953],\n",
       "       [0.97149785, 0.02850215],\n",
       "       [0.76898476, 0.23101524],\n",
       "       [0.73269122, 0.26730878],\n",
       "       [0.74853428, 0.25146572],\n",
       "       [0.6986962 , 0.3013038 ],\n",
       "       [0.6677774 , 0.3322226 ],\n",
       "       [0.40037572, 0.59962428],\n",
       "       [0.8581757 , 0.1418243 ],\n",
       "       [0.45769483, 0.54230517],\n",
       "       [0.97014985, 0.02985015],\n",
       "       [0.96685601, 0.03314399],\n",
       "       [0.99164189, 0.00835811],\n",
       "       [0.58357039, 0.41642961],\n",
       "       [0.55880705, 0.44119295],\n",
       "       [0.77182578, 0.22817422],\n",
       "       [0.840924  , 0.159076  ],\n",
       "       [0.95368223, 0.04631777],\n",
       "       [0.66261422, 0.33738578],\n",
       "       [0.99063242, 0.00936758],\n",
       "       [0.94825535, 0.05174465],\n",
       "       [0.2728862 , 0.7271138 ],\n",
       "       [0.50909685, 0.49090315],\n",
       "       [0.98313901, 0.01686099],\n",
       "       [0.84850812, 0.15149188],\n",
       "       [0.97786029, 0.02213971],\n",
       "       [0.90264029, 0.09735971],\n",
       "       [0.91437884, 0.08562116],\n",
       "       [0.82742897, 0.17257103],\n",
       "       [0.58102314, 0.41897686],\n",
       "       [0.97481999, 0.02518001],\n",
       "       [0.66450007, 0.33549993],\n",
       "       [0.85992174, 0.14007826],\n",
       "       [0.59260278, 0.40739722],\n",
       "       [0.64204807, 0.35795193],\n",
       "       [0.86961508, 0.13038492],\n",
       "       [0.887938  , 0.112062  ],\n",
       "       [0.77312465, 0.22687535],\n",
       "       [0.62933066, 0.37066934],\n",
       "       [0.95855608, 0.04144392],\n",
       "       [0.65457634, 0.34542366],\n",
       "       [0.12862015, 0.87137985],\n",
       "       [0.72194922, 0.27805078],\n",
       "       [0.94327754, 0.05672246],\n",
       "       [0.92969533, 0.07030467],\n",
       "       [0.78803791, 0.21196209],\n",
       "       [0.60731572, 0.39268428],\n",
       "       [0.73499777, 0.26500223],\n",
       "       [0.93143797, 0.06856203],\n",
       "       [0.63601119, 0.36398881],\n",
       "       [0.95732336, 0.04267664],\n",
       "       [0.72284684, 0.27715316],\n",
       "       [0.93631072, 0.06368928],\n",
       "       [0.32777623, 0.67222377],\n",
       "       [0.52849322, 0.47150678],\n",
       "       [0.8977219 , 0.1022781 ],\n",
       "       [0.50449976, 0.49550024],\n",
       "       [0.11443961, 0.88556039],\n",
       "       [0.88237445, 0.11762555],\n",
       "       [0.61382225, 0.38617775],\n",
       "       [0.97839117, 0.02160883],\n",
       "       [0.7713782 , 0.2286218 ],\n",
       "       [0.18091775, 0.81908225],\n",
       "       [0.96003574, 0.03996426],\n",
       "       [0.98948758, 0.01051242],\n",
       "       [0.64244148, 0.35755852],\n",
       "       [0.90923312, 0.09076688],\n",
       "       [0.87174542, 0.12825458],\n",
       "       [0.73399538, 0.26600462],\n",
       "       [0.42655562, 0.57344438],\n",
       "       [0.895468  , 0.104532  ],\n",
       "       [0.73206787, 0.26793213],\n",
       "       [0.44550975, 0.55449025],\n",
       "       [0.9416071 , 0.0583929 ],\n",
       "       [0.80017857, 0.19982143],\n",
       "       [0.41839324, 0.58160676],\n",
       "       [0.93137598, 0.06862402],\n",
       "       [0.40432487, 0.59567513],\n",
       "       [0.90345939, 0.09654061],\n",
       "       [0.88444311, 0.11555689],\n",
       "       [0.88107044, 0.11892956],\n",
       "       [0.96665813, 0.03334187],\n",
       "       [0.90733338, 0.09266662],\n",
       "       [0.96508725, 0.03491275],\n",
       "       [0.48676784, 0.51323216],\n",
       "       [0.92478215, 0.07521785],\n",
       "       [0.35522286, 0.64477714],\n",
       "       [0.98184906, 0.01815094],\n",
       "       [0.839809  , 0.160191  ],\n",
       "       [0.54253349, 0.45746651],\n",
       "       [0.84376681, 0.15623319],\n",
       "       [0.6089071 , 0.3910929 ],\n",
       "       [0.88184726, 0.11815274],\n",
       "       [0.83006978, 0.16993022],\n",
       "       [0.46673678, 0.53326322],\n",
       "       [0.97663518, 0.02336482],\n",
       "       [0.75671619, 0.24328381],\n",
       "       [0.61951683, 0.38048317],\n",
       "       [0.61799289, 0.38200711],\n",
       "       [0.34998317, 0.65001683],\n",
       "       [0.94336861, 0.05663139],\n",
       "       [0.51243044, 0.48756956],\n",
       "       [0.67868395, 0.32131605],\n",
       "       [0.78040859, 0.21959141],\n",
       "       [0.61113571, 0.38886429],\n",
       "       [0.88453955, 0.11546045],\n",
       "       [0.73436645, 0.26563355],\n",
       "       [0.75025162, 0.24974838],\n",
       "       [0.82305816, 0.17694184],\n",
       "       [0.55974199, 0.44025801],\n",
       "       [0.79906844, 0.20093156],\n",
       "       [0.6830176 , 0.3169824 ],\n",
       "       [0.85983844, 0.14016156],\n",
       "       [0.95926835, 0.04073165],\n",
       "       [0.7463148 , 0.2536852 ],\n",
       "       [0.71172715, 0.28827285],\n",
       "       [0.80550254, 0.19449746],\n",
       "       [0.79937962, 0.20062038],\n",
       "       [0.6351546 , 0.3648454 ],\n",
       "       [0.73596979, 0.26403021],\n",
       "       [0.59889824, 0.40110176],\n",
       "       [0.90911099, 0.09088901],\n",
       "       [0.89857892, 0.10142108],\n",
       "       [0.75056706, 0.24943294],\n",
       "       [0.68499269, 0.31500731],\n",
       "       [0.72486884, 0.27513116],\n",
       "       [0.98783711, 0.01216289],\n",
       "       [0.5816287 , 0.4183713 ],\n",
       "       [0.23982797, 0.76017203],\n",
       "       [0.95061261, 0.04938739],\n",
       "       [0.97229946, 0.02770054],\n",
       "       [0.88496968, 0.11503032],\n",
       "       [0.95011791, 0.04988209],\n",
       "       [0.93186349, 0.06813651],\n",
       "       [0.70677755, 0.29322245],\n",
       "       [0.22715918, 0.77284082],\n",
       "       [0.37340857, 0.62659143],\n",
       "       [0.77612939, 0.22387061],\n",
       "       [0.62351539, 0.37648461],\n",
       "       [0.76467472, 0.23532528],\n",
       "       [0.75705705, 0.24294295],\n",
       "       [0.97929769, 0.02070231],\n",
       "       [0.76857432, 0.23142568],\n",
       "       [0.60741185, 0.39258815],\n",
       "       [0.90808383, 0.09191617],\n",
       "       [0.95517697, 0.04482303],\n",
       "       [0.82609171, 0.17390829],\n",
       "       [0.84399322, 0.15600678],\n",
       "       [0.46817581, 0.53182419],\n",
       "       [0.65215249, 0.34784751],\n",
       "       [0.80502033, 0.19497967],\n",
       "       [0.9194933 , 0.0805067 ],\n",
       "       [0.98308668, 0.01691332],\n",
       "       [0.9642668 , 0.0357332 ],\n",
       "       [0.96002309, 0.03997691],\n",
       "       [0.60857198, 0.39142802],\n",
       "       [0.9077542 , 0.0922458 ],\n",
       "       [0.84149784, 0.15850216],\n",
       "       [0.98501541, 0.01498459],\n",
       "       [0.73699657, 0.26300343],\n",
       "       [0.55551171, 0.44448829],\n",
       "       [0.91225924, 0.08774076],\n",
       "       [0.6760112 , 0.3239888 ],\n",
       "       [0.69849275, 0.30150725],\n",
       "       [0.75385906, 0.24614094],\n",
       "       [0.56107868, 0.43892132],\n",
       "       [0.87310396, 0.12689604],\n",
       "       [0.96226083, 0.03773917],\n",
       "       [0.8723151 , 0.1276849 ],\n",
       "       [0.36370546, 0.63629454],\n",
       "       [0.90640785, 0.09359215],\n",
       "       [0.86377289, 0.13622711],\n",
       "       [0.7457959 , 0.2542041 ],\n",
       "       [0.78532466, 0.21467534],\n",
       "       [0.77915275, 0.22084725],\n",
       "       [0.70640257, 0.29359743],\n",
       "       [0.2954461 , 0.7045539 ],\n",
       "       [0.94859778, 0.05140222],\n",
       "       [0.99418968, 0.00581032],\n",
       "       [0.98607258, 0.01392742],\n",
       "       [0.22967734, 0.77032266],\n",
       "       [0.43582186, 0.56417814],\n",
       "       [0.98235456, 0.01764544],\n",
       "       [0.95636071, 0.04363929],\n",
       "       [0.96904016, 0.03095984],\n",
       "       [0.4419472 , 0.5580528 ],\n",
       "       [0.95016631, 0.04983369],\n",
       "       [0.51405509, 0.48594491],\n",
       "       [0.80459136, 0.19540864],\n",
       "       [0.00495178, 0.99504822],\n",
       "       [0.91170222, 0.08829778],\n",
       "       [0.9161    , 0.0839    ],\n",
       "       [0.85363663, 0.14636337],\n",
       "       [0.92583053, 0.07416947],\n",
       "       [0.93630775, 0.06369225],\n",
       "       [0.7859648 , 0.2140352 ],\n",
       "       [0.95447093, 0.04552907],\n",
       "       [0.28138777, 0.71861223],\n",
       "       [0.70025541, 0.29974459],\n",
       "       [0.94343141, 0.05656859],\n",
       "       [0.39320134, 0.60679866],\n",
       "       [0.85350925, 0.14649075],\n",
       "       [0.58108013, 0.41891987],\n",
       "       [0.59205693, 0.40794307],\n",
       "       [0.8198646 , 0.1801354 ],\n",
       "       [0.74906126, 0.25093874],\n",
       "       [0.79857105, 0.20142895],\n",
       "       [0.4139478 , 0.5860522 ],\n",
       "       [0.91988604, 0.08011396],\n",
       "       [0.2899734 , 0.7100266 ],\n",
       "       [0.85619655, 0.14380345],\n",
       "       [0.6033488 , 0.3966512 ],\n",
       "       [0.50508014, 0.49491986],\n",
       "       [0.65679796, 0.34320204],\n",
       "       [0.67968575, 0.32031425],\n",
       "       [0.53814007, 0.46185993],\n",
       "       [0.91920832, 0.08079168],\n",
       "       [0.97903485, 0.02096515],\n",
       "       [0.70718204, 0.29281796],\n",
       "       [0.54060739, 0.45939261],\n",
       "       [0.85543086, 0.14456914],\n",
       "       [0.85609286, 0.14390714],\n",
       "       [0.8726346 , 0.1273654 ],\n",
       "       [0.91436142, 0.08563858],\n",
       "       [0.8994079 , 0.1005921 ],\n",
       "       [0.88351302, 0.11648698],\n",
       "       [0.92510221, 0.07489779],\n",
       "       [0.1042699 , 0.8957301 ],\n",
       "       [0.39518774, 0.60481226],\n",
       "       [0.95398908, 0.04601092],\n",
       "       [0.83934623, 0.16065377],\n",
       "       [0.43573703, 0.56426297],\n",
       "       [0.95214084, 0.04785916],\n",
       "       [0.80359911, 0.19640089],\n",
       "       [0.80513706, 0.19486294],\n",
       "       [0.72211322, 0.27788678],\n",
       "       [0.917412  , 0.082588  ],\n",
       "       [0.9124416 , 0.0875584 ],\n",
       "       [0.91778704, 0.08221296],\n",
       "       [0.92485727, 0.07514273],\n",
       "       [0.54196926, 0.45803074],\n",
       "       [0.66830302, 0.33169698],\n",
       "       [0.5448395 , 0.4551605 ],\n",
       "       [0.71211047, 0.28788953],\n",
       "       [0.94820474, 0.05179526],\n",
       "       [0.94478253, 0.05521747],\n",
       "       [0.66591797, 0.33408203],\n",
       "       [0.41745174, 0.58254826],\n",
       "       [0.98404613, 0.01595387],\n",
       "       [0.91873745, 0.08126255],\n",
       "       [0.5056358 , 0.4943642 ],\n",
       "       [0.90389236, 0.09610764],\n",
       "       [0.5406688 , 0.4593312 ],\n",
       "       [0.90047215, 0.09952785],\n",
       "       [0.03440734, 0.96559266],\n",
       "       [0.87754758, 0.12245242],\n",
       "       [0.6888376 , 0.3111624 ],\n",
       "       [0.20409219, 0.79590781],\n",
       "       [0.3994454 , 0.6005546 ],\n",
       "       [0.93983762, 0.06016238],\n",
       "       [0.95969006, 0.04030994],\n",
       "       [0.92926537, 0.07073463],\n",
       "       [0.65124139, 0.34875861],\n",
       "       [0.17149394, 0.82850606],\n",
       "       [0.80791477, 0.19208523],\n",
       "       [0.94201921, 0.05798079],\n",
       "       [0.8706951 , 0.1293049 ],\n",
       "       [0.97294159, 0.02705841],\n",
       "       [0.54790913, 0.45209087],\n",
       "       [0.27097625, 0.72902375],\n",
       "       [0.46029855, 0.53970145],\n",
       "       [0.98656124, 0.01343876],\n",
       "       [0.8895473 , 0.1104527 ],\n",
       "       [0.83838744, 0.16161256],\n",
       "       [0.74886835, 0.25113165],\n",
       "       [0.99502858, 0.00497142],\n",
       "       [0.76225045, 0.23774955],\n",
       "       [0.54037744, 0.45962256],\n",
       "       [0.90496321, 0.09503679],\n",
       "       [0.96739501, 0.03260499],\n",
       "       [0.94000143, 0.05999857],\n",
       "       [0.37050447, 0.62949553],\n",
       "       [0.43727315, 0.56272685],\n",
       "       [0.98795258, 0.01204742],\n",
       "       [0.89604685, 0.10395315],\n",
       "       [0.97735202, 0.02264798],\n",
       "       [0.68118583, 0.31881417],\n",
       "       [0.19544554, 0.80455446],\n",
       "       [0.51121685, 0.48878315],\n",
       "       [0.8230541 , 0.1769459 ],\n",
       "       [0.74532538, 0.25467462],\n",
       "       [0.5668539 , 0.4331461 ],\n",
       "       [0.88578698, 0.11421302],\n",
       "       [0.97279341, 0.02720659],\n",
       "       [0.76811914, 0.23188086],\n",
       "       [0.72450715, 0.27549285]])"
      ]
     },
     "execution_count": 13,
     "metadata": {},
     "output_type": "execute_result"
    }
   ],
   "source": [
    "logreg.predict_proba(X_train)"
   ]
  },
  {
   "cell_type": "code",
   "execution_count": 14,
   "metadata": {},
   "outputs": [
    {
     "name": "stdout",
     "output_type": "stream",
     "text": [
      "Optimization terminated successfully.\n",
      "         Current function value: 0.463521\n",
      "         Iterations 7\n",
      "                         Results: Logit\n",
      "=================================================================\n",
      "Model:              Logit            Pseudo R-squared: 0.181     \n",
      "Dependent Variable: default_num      AIC:              284.1127  \n",
      "Date:               2021-05-24 10:44 BIC:              295.2240  \n",
      "No. Observations:   300              Log-Likelihood:   -139.06   \n",
      "Df Model:           2                LL-Null:          -169.79   \n",
      "Df Residuals:       297              LLR p-value:      4.4917e-14\n",
      "Converged:          1.0000           Scale:            1.0000    \n",
      "No. Iterations:     7.0000                                       \n",
      "------------------------------------------------------------------\n",
      "               Coef.   Std.Err.     z     P>|z|    [0.025   0.975]\n",
      "------------------------------------------------------------------\n",
      "t_emprego     -0.2647    0.0341  -7.7671  0.0000  -0.3315  -0.1979\n",
      "divida         0.0012    0.0173   0.0686  0.9453  -0.0328   0.0352\n",
      "divida_cc      0.5423    0.1141   4.7509  0.0000   0.3186   0.7660\n",
      "=================================================================\n",
      "\n"
     ]
    }
   ],
   "source": [
    "logit_model=sm.Logit(y_train,X_train)\n",
    "result=logit_model.fit()\n",
    "print(result.summary2())"
   ]
  },
  {
   "cell_type": "code",
   "execution_count": 15,
   "metadata": {},
   "outputs": [
    {
     "name": "stdout",
     "output_type": "stream",
     "text": [
      "Acuracia do modelo do conjunto de Treino: 0.807\n"
     ]
    }
   ],
   "source": [
    "y_pred = logreg.predict(X_train)\n",
    "print('Acuracia do modelo do conjunto de Treino: {:.3f}'.format(logreg.score(X_train, y_train)))"
   ]
  },
  {
   "cell_type": "code",
   "execution_count": 16,
   "metadata": {},
   "outputs": [
    {
     "name": "stderr",
     "output_type": "stream",
     "text": [
      "C:\\Users\\Sarah Braga\\Anaconda3\\lib\\site-packages\\ipykernel_launcher.py:1: SettingWithCopyWarning: \n",
      "A value is trying to be set on a copy of a slice from a DataFrame.\n",
      "Try using .loc[row_indexer,col_indexer] = value instead\n",
      "\n",
      "See the caveats in the documentation: http://pandas.pydata.org/pandas-docs/stable/indexing.html#indexing-view-versus-copy\n",
      "  \"\"\"Entry point for launching an IPython kernel.\n"
     ]
    }
   ],
   "source": [
    "y_train['default_pred'] = y_pred"
   ]
  },
  {
   "cell_type": "code",
   "execution_count": 17,
   "metadata": {},
   "outputs": [
    {
     "data": {
      "text/html": [
       "<div>\n",
       "<style scoped>\n",
       "    .dataframe tbody tr th:only-of-type {\n",
       "        vertical-align: middle;\n",
       "    }\n",
       "\n",
       "    .dataframe tbody tr th {\n",
       "        vertical-align: top;\n",
       "    }\n",
       "\n",
       "    .dataframe thead th {\n",
       "        text-align: right;\n",
       "    }\n",
       "</style>\n",
       "<table border=\"1\" class=\"dataframe\">\n",
       "  <thead>\n",
       "    <tr style=\"text-align: right;\">\n",
       "      <th>Previsto</th>\n",
       "      <th>0</th>\n",
       "      <th>1</th>\n",
       "      <th>Total</th>\n",
       "    </tr>\n",
       "    <tr>\n",
       "      <th>Estado</th>\n",
       "      <th></th>\n",
       "      <th></th>\n",
       "      <th></th>\n",
       "    </tr>\n",
       "  </thead>\n",
       "  <tbody>\n",
       "    <tr>\n",
       "      <th>0</th>\n",
       "      <td>224</td>\n",
       "      <td>0</td>\n",
       "      <td>224</td>\n",
       "    </tr>\n",
       "    <tr>\n",
       "      <th>1</th>\n",
       "      <td>0</td>\n",
       "      <td>76</td>\n",
       "      <td>76</td>\n",
       "    </tr>\n",
       "    <tr>\n",
       "      <th>Total</th>\n",
       "      <td>224</td>\n",
       "      <td>76</td>\n",
       "      <td>300</td>\n",
       "    </tr>\n",
       "  </tbody>\n",
       "</table>\n",
       "</div>"
      ],
      "text/plain": [
       "Previsto    0   1  Total\n",
       "Estado                  \n",
       "0         224   0    224\n",
       "1           0  76     76\n",
       "Total     224  76    300"
      ]
     },
     "execution_count": 17,
     "metadata": {},
     "output_type": "execute_result"
    }
   ],
   "source": [
    "pd.crosstab(y_train['default_num'], y_train['default_num'], rownames=['Estado'], colnames=['Previsto'], margins=True, margins_name='Total')"
   ]
  },
  {
   "cell_type": "code",
   "execution_count": 18,
   "metadata": {},
   "outputs": [
    {
     "name": "stdout",
     "output_type": "stream",
     "text": [
      "Acuracia do modelo do conjunto de Teste: 0.850\n"
     ]
    }
   ],
   "source": [
    "y_pred = logreg.predict(X_test)\n",
    "print('Acuracia do modelo do conjunto de Teste: {:.3f}'.format(logreg.score(X_test, y_test)))"
   ]
  },
  {
   "cell_type": "code",
   "execution_count": 19,
   "metadata": {},
   "outputs": [
    {
     "data": {
      "image/png": "[encoded data removed]",
      "text/plain": [
       "<Figure size 432x288 with 1 Axes>"
      ]
     },
     "metadata": {
      "needs_background": "light"
     },
     "output_type": "display_data"
    }
   ],
   "source": [
    "logit_roc_auc = roc_auc_score(y_test, logreg.predict(X_test))\n",
    "fpr, tpr, thresholds = roc_curve(y_test, logreg.predict_proba(X_test)[:,1])\n",
    "plt.figure()\n",
    "plt.plot(fpr, tpr, label='Regressão Logística (area = %0.3f)' % logit_roc_auc)\n",
    "plt.plot([0, 1], [0, 1],'r--')\n",
    "plt.xlim([0.0, 1.0])\n",
    "plt.ylim([0.0, 1.05])\n",
    "plt.xlabel('Taxa de Falso Positivo')\n",
    "plt.ylabel('Taxa de Verdadeiro Positivo')\n",
    "plt.title('Receiver operating characteristic')\n",
    "plt.legend(loc=\"lower right\")\n",
    "plt.savefig('Log_ROC')\n",
    "plt.show()"
   ]
  },
  {
   "cell_type": "code",
   "execution_count": null,
   "metadata": {},
   "outputs": [],
   "source": []
  }
 ],
 "metadata": {
  "kernelspec": {
   "display_name": "Python 3",
   "language": "python",
   "name": "python3"
  },
  "language_info": {
   "codemirror_mode": {
    "name": "ipython",
    "version": 3
   },
   "file_extension": ".py",
   "mimetype": "text/x-python",
   "name": "python",
   "nbconvert_exporter": "python",
   "pygments_lexer": "ipython3",
   "version": "3.7.3"
  }
 },
 "nbformat": 4,
 "nbformat_minor": 4
}
